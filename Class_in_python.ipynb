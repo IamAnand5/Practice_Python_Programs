{
 "cells": [
  {
   "cell_type": "markdown",
   "id": "295522bd",
   "metadata": {},
   "source": [
    "### Class:\n",
    "Syntax:\n",
    "class  className:\n",
    "\t“Documentation “\n",
    "\t\n",
    "    Variables: instance variable, static and local variables\n",
    "\t\n",
    "    Methods: instance methods, static and class methods\n",
    "\n",
    "print(classname.__doc__)\n",
    "\n",
    "help(classname)\n",
    "\n",
    "Objects: Physical existence of a class. We can create any number of objects for a class\n",
    "\n",
    "Syntax: refVariable = classname()\n",
    "\n",
    "Eg.    s = Student()\n",
    "\n",
    "\n",
    "Reference Variable: The variable which can be used to refer to an object is called a reference variable.\n",
    "\n",
    "Self Variable:\n",
    "\n",
    "    Self is the default variable which is always pointing to current object\n",
    "\n",
    "    By using self we can access instance variables and instance methods of the object.\n",
    "\n",
    "    Self should be first parameter in a constructor\n",
    "\n",
    "    Eg. def __init__(self)\n",
    "\n",
    "    Self should be first parameter inside instance methods\n",
    "\n",
    "    Eg. def intro(self)\n",
    "\n",
    "Constructor:\n",
    "\n",
    "    The name of the constructor should be __init__(self)\n",
    "\n",
    "    Constructor will be executed automatically at the time of object creation.\n",
    "\n",
    "    The main purpose of constructor is to declare and initialise instance variables.\n",
    "\n",
    "    Per object constructor will be executed only one time\n",
    "\n",
    "    Constructor can take at least one argument ( at least self)\n",
    "\n",
    "    Constructor is optional and if we are not providing any constructor then python will provide default constructor.\n"
   ]
  },
  {
   "cell_type": "code",
   "execution_count": 24,
   "id": "1750ae73",
   "metadata": {},
   "outputs": [
    {
     "ename": "TypeError",
     "evalue": "Test.__init__() takes 0 positional arguments but 1 was given",
     "output_type": "error",
     "traceback": [
      "\u001b[1;31m---------------------------------------------------------------------------\u001b[0m",
      "\u001b[1;31mTypeError\u001b[0m                                 Traceback (most recent call last)",
      "Cell \u001b[1;32mIn[24], line 9\u001b[0m\n\u001b[0;32m      4\u001b[0m     \u001b[38;5;28;01mdef\u001b[39;00m \u001b[38;5;21m__init__\u001b[39m():\n\u001b[0;32m      6\u001b[0m         \u001b[38;5;28mprint\u001b[39m(\u001b[38;5;124m'\u001b[39m\u001b[38;5;124mI am inside the constructor\u001b[39m\u001b[38;5;124m'\u001b[39m)\n\u001b[1;32m----> 9\u001b[0m obj \u001b[38;5;241m=\u001b[39m Test()\n",
      "\u001b[1;31mTypeError\u001b[0m: Test.__init__() takes 0 positional arguments but 1 was given"
     ]
    }
   ],
   "source": [
    "class Test:\n",
    "    \n",
    "    #constructor\n",
    "    def __init__():\n",
    "        \n",
    "        print('I am inside the constructor')\n",
    "        \n",
    "\n",
    "obj = Test()"
   ]
  },
  {
   "cell_type": "code",
   "execution_count": 57,
   "id": "28aaf8d5",
   "metadata": {},
   "outputs": [
    {
     "name": "stdout",
     "output_type": "stream",
     "text": [
      "I am inside the constructor\n",
      "I am inside the constructor\n",
      "I am inside the constructor\n"
     ]
    }
   ],
   "source": [
    "class Test1:\n",
    "    \n",
    "    #constructor\n",
    "    def __init__(self):\n",
    "        \n",
    "        print('I am inside the constructor')\n",
    "        \n",
    "\n",
    "obj = Test1()\n",
    "obj1 = Test1()\n",
    "obj2 = Test1()"
   ]
  },
  {
   "cell_type": "code",
   "execution_count": 58,
   "id": "1aed37d6",
   "metadata": {},
   "outputs": [
    {
     "name": "stdout",
     "output_type": "stream",
     "text": [
      "I am inside the constructor\n"
     ]
    }
   ],
   "source": [
    "class Test1a:\n",
    "    \n",
    "\n",
    "        #default constructor\n",
    "        print('I am inside the constructor')\n",
    "        \n",
    "\n",
    "obj = Test1a()\n"
   ]
  },
  {
   "cell_type": "code",
   "execution_count": 26,
   "id": "5002aaf7",
   "metadata": {},
   "outputs": [
    {
     "ename": "TypeError",
     "evalue": "Test2.__init__() missing 3 required positional arguments: 'name', 'age', and 'gender'",
     "output_type": "error",
     "traceback": [
      "\u001b[1;31m---------------------------------------------------------------------------\u001b[0m",
      "\u001b[1;31mTypeError\u001b[0m                                 Traceback (most recent call last)",
      "Cell \u001b[1;32mIn[26], line 9\u001b[0m\n\u001b[0;32m      4\u001b[0m     \u001b[38;5;28;01mdef\u001b[39;00m \u001b[38;5;21m__init__\u001b[39m(\u001b[38;5;28mself\u001b[39m, name, age, gender):\n\u001b[0;32m      6\u001b[0m         \u001b[38;5;28mprint\u001b[39m(\u001b[38;5;124m'\u001b[39m\u001b[38;5;124mI am inside the constructor\u001b[39m\u001b[38;5;124m'\u001b[39m)\n\u001b[1;32m----> 9\u001b[0m obj \u001b[38;5;241m=\u001b[39m Test2()\n",
      "\u001b[1;31mTypeError\u001b[0m: Test2.__init__() missing 3 required positional arguments: 'name', 'age', and 'gender'"
     ]
    }
   ],
   "source": [
    "class Test2:\n",
    "    \n",
    "    #constructor\n",
    "    def __init__(self, name, age, gender):\n",
    "        \n",
    "        print('I am inside the constructor')\n",
    "        \n",
    "\n",
    "obj = Test2()"
   ]
  },
  {
   "cell_type": "code",
   "execution_count": 27,
   "id": "7dd5a3e0",
   "metadata": {},
   "outputs": [
    {
     "name": "stdout",
     "output_type": "stream",
     "text": [
      "I am inside the constructor\n"
     ]
    }
   ],
   "source": [
    "class Test3:\n",
    "    \n",
    "    #constructor\n",
    "    def __init__(self, name, age, gender):\n",
    "        self.name = \"anand\"\n",
    "        self.age = 22\n",
    "        self.gender = 'm'\n",
    "        print('I am inside the constructor')\n",
    "        \n",
    "\n",
    "obj = Test3('Dyal',32,'M')"
   ]
  },
  {
   "cell_type": "code",
   "execution_count": 28,
   "id": "25dbcd55",
   "metadata": {},
   "outputs": [
    {
     "name": "stdout",
     "output_type": "stream",
     "text": [
      "I am inside the constructor\n"
     ]
    }
   ],
   "source": [
    "class Test4:\n",
    "    \n",
    "    #constructor\n",
    "    def __init__(self, name, age, gender):\n",
    "        self.name = name\n",
    "        self.age = age\n",
    "        self.gender = gender\n",
    "        print('I am inside the constructor')\n",
    "        \n",
    "\n",
    "obj = Test4('Dyal',32,'M')"
   ]
  },
  {
   "cell_type": "code",
   "execution_count": 41,
   "id": "fe6adfb4",
   "metadata": {},
   "outputs": [
    {
     "name": "stdout",
     "output_type": "stream",
     "text": [
      "I am inside the constructor\n",
      "Dyal 32 M\n"
     ]
    }
   ],
   "source": [
    "class Test4a:\n",
    "    \n",
    "    #constructor\n",
    "    def __init__(self, name, age, gender):\n",
    "        self.name = name\n",
    "        self.age = age\n",
    "        self.gender = gender\n",
    "        print('I am inside the constructor')\n",
    "        \n",
    "\n",
    "obj = Test4a('Dyal',32,'M')\n",
    "print(obj.name,obj.age,obj.gender)\n",
    "\n"
   ]
  },
  {
   "cell_type": "code",
   "execution_count": 63,
   "id": "654cbc13",
   "metadata": {},
   "outputs": [
    {
     "name": "stdout",
     "output_type": "stream",
     "text": [
      "I am inside the constructor\n",
      "anand 22 m\n"
     ]
    }
   ],
   "source": [
    "class Test4b:\n",
    "    \n",
    "    #constructor\n",
    "    def __init__(self, name, age, gender):\n",
    "        self.name = \"anand\"\n",
    "        self.age = 22\n",
    "        self.gender = 'm'\n",
    "        print('I am inside the constructor')\n",
    "        \n",
    "\n",
    "obj = Test4b('Dyal',32,2)\n",
    "print(obj.name,obj.age,obj.gender)"
   ]
  },
  {
   "cell_type": "code",
   "execution_count": 35,
   "id": "5bd1045d",
   "metadata": {},
   "outputs": [
    {
     "name": "stdout",
     "output_type": "stream",
     "text": [
      "I am inside the constructor\n",
      "I am inside instance method\n"
     ]
    }
   ],
   "source": [
    "class Test5:\n",
    "    \n",
    "    #constructor\n",
    "    def __init__(self):\n",
    "        \n",
    "        print('I am inside the constructor')\n",
    "        \n",
    "    # instance method\n",
    "    def method(self):\n",
    "        print(\"I am inside instance method\")\n",
    "\n",
    "obj = Test5()\n",
    "obj.method()"
   ]
  },
  {
   "cell_type": "code",
   "execution_count": 44,
   "id": "1a9f9817",
   "metadata": {},
   "outputs": [
    {
     "name": "stdout",
     "output_type": "stream",
     "text": [
      "I am inside the constructor\n",
      "I am inside instance method\n",
      "Heloo Mr.  anand\n",
      "Your age is: 33\n"
     ]
    }
   ],
   "source": [
    "class Test5a:\n",
    "    \n",
    "    #constructor\n",
    "    def __init__(self,name, age):\n",
    "        self.name = name\n",
    "        self.age = age\n",
    "        print('I am inside the constructor')\n",
    "        \n",
    "    # instance method\n",
    "    def method(self):\n",
    "        \n",
    "        print(\"I am inside instance method\")\n",
    "        print(\"Heloo Mr. \", self.name)\n",
    "        print(\"Your age is:\",self.age)\n",
    "        \n",
    "\n",
    "obj = Test5a(\"anand\",33)\n",
    "obj.method()"
   ]
  },
  {
   "cell_type": "code",
   "execution_count": 75,
   "id": "52b28b68",
   "metadata": {},
   "outputs": [
    {
     "name": "stdout",
     "output_type": "stream",
     "text": [
      "I am inside the constructor\n",
      "I am inside instance method\n",
      "situ's age is 23 and gender is male\n"
     ]
    }
   ],
   "source": [
    "class Test5b:\n",
    "    \n",
    "    #constructor\n",
    "    def __init__(self,name, age):\n",
    "        self.name = 'situ'\n",
    "        self.age = 23\n",
    "        print('I am inside the constructor')\n",
    "        \n",
    "    # instance method\n",
    "    def method(self):\n",
    "        self.gender = \"male\"\n",
    "        print(\"I am inside instance method\")\n",
    "#         print(\"Heloo Mr. \", self.name)\n",
    "#         print(\"Your age is:\",self.age)\n",
    "#         print(\"Gender:\",self.gender)\n",
    "        print(\"{}'s age is {} and gender is {}\".format(self.name,self.age,self.gender))\n",
    "obj = Test5b(1,1)       \n",
    "obj.method()"
   ]
  },
  {
   "cell_type": "markdown",
   "id": "651bba55",
   "metadata": {},
   "source": [
    "### Variables:\n",
    "\n",
    "#### Instance Variables : \n",
    "\n",
    "    If the value of a variable is varied from object to object, then such type of variables are called instance variables\n",
    "    For every object a separate copy of instance variables will be created\n",
    "\n",
    "##### Where we can declare Instance Variables:\n",
    "    \n",
    "    Inside constructor by using self variable\n",
    "    \n",
    "    Inside instance method by using self variable\n",
    "    \n",
    "    Outside of the class by using object reference variable\n",
    "\n",
    "#### Inside constructor by using self variable\n",
    "     Class Student:\n",
    "      \n",
    "         def  __init__(self):\n",
    "            \n",
    "            self.rollno = 10\n",
    "\t\t\n",
    "            self.name=’Pradeep’\n",
    "\t\t\n",
    "            self.course=’BCA’\n",
    "\n",
    "#### Inside Instance Method by using Self Variable:\n",
    "\n",
    "    We can also declare instance variables inside the instance method by using self variables.\n",
    "    \n",
    "#### Outside of the class by using Object reference variable:\n",
    "    \n",
    "    We can also add instance variables outside of a class to a particular object\n",
    "\n",
    "#### How we can access instance variables:\n",
    "    \n",
    "    We can access instance variables with in the class by using self variable and outside of the class by using object reference\n",
    "\n",
    "#### How to delete Instance variable from the Object:\n",
    "    \n",
    "    Within a class we can delete instance variable as follows:\n",
    " \n",
    "     del  self.variableName\n",
    "\n",
    "#### We can delete instance variables from outside of class as follows:\n",
    "     \n",
    "     del  objectReference.variableName\n",
    "\n",
    "### Static Variables:\n",
    "\n",
    "        If the value of a variable is not varied from object to object, such type of variables we have to declare with in the class directly but outside of methods. Such type of variables are called Static variables\n",
    "\n",
    "    Only one copy of static variable will be created and shared by all objects of that class\n",
    "\n",
    "    We can access static variables either by class name or by object reference. But recommended to use only class name in case of static variables.\n",
    "\n",
    "#### Declare static variables:\n",
    "\n",
    "    We can declare within the class directly but from outside of any method\n",
    "    \n",
    "    Inside constructor by using class name\n",
    "    \n",
    "    Inside instance method by using class name\n",
    "    \n",
    "    Inside classmethod by using either class name or cls variable\n",
    "    \n",
    "    Inside static method by using class name\n",
    "\n",
    "#### Access Static Variables:\n",
    "    \n",
    "    Inside constructor: by using either self or classname\n",
    "    \n",
    "    Inside instance method: by using either self or classname\n",
    "    \n",
    "    Inside class method: by using either cls variable or classname\n",
    "    \n",
    "    Inside static method: by using classname\n",
    "    \n",
    "    From outside of class: By using either object reference or classname\n",
    "\n",
    "###### Note: if we change the value of static variable by using either self or object reference variable then the value of static variable won’t be changed, just a new instance variable with that name will be added to that particular object.\n",
    "\n",
    "#### Delete Static variables:\n",
    "    We can delete static variables from anywhere by using the following syntax\n",
    "     del classname.variablename\n",
    "\n",
    "#### Local Variables:\n",
    "    \n",
    "    Local variables will be created at the time of method execution and destroyed once method completes.\n",
    "    \n",
    "    Local variables of a method cannot be accessed from outside of a method.\n"
   ]
  },
  {
   "cell_type": "code",
   "execution_count": 87,
   "id": "b0ef3476",
   "metadata": {},
   "outputs": [
    {
     "name": "stdout",
     "output_type": "stream",
     "text": [
      "Age: 33\n",
      "Anand MCA male\n"
     ]
    }
   ],
   "source": [
    "class Test6:\n",
    "    \n",
    "    def __init__(self, name, age):\n",
    "        self.name = \"Anand\"\n",
    "        self.age = 33\n",
    "        \n",
    "    def methodTest(self):\n",
    "        self.gender = 'male'\n",
    "        print('Age:',self.age)\n",
    "        \n",
    "obj = Test6(1,1)\n",
    "obj.methodTest()\n",
    "obj.course = 'MCA'\n",
    "print(obj.name,obj.course,obj.gender)\n"
   ]
  },
  {
   "cell_type": "code",
   "execution_count": 101,
   "id": "c536d51a",
   "metadata": {},
   "outputs": [
    {
     "name": "stdout",
     "output_type": "stream",
     "text": [
      "Kapil 23\n",
      "Anand 33\n",
      "Shruti 32\n"
     ]
    }
   ],
   "source": [
    "class Test6:\n",
    "\n",
    "    \n",
    "    def __init__(self, name, age):\n",
    "        self.name = name\n",
    "        self.age = age\n",
    "        \n",
    "obj = Test6(\"Dyal\",23)\n",
    "obj1 = Test6(\"Anand\",33)\n",
    "obj2 = Test6(\"Shruti\",31)\n",
    "\n",
    "obj.name = \"Kapil\"\n",
    "obj2.age = 32\n",
    "\n",
    "print(obj.name,obj.age)\n",
    "print(obj1.name,obj1.age)\n",
    "print(obj2.name,obj2.age)"
   ]
  },
  {
   "cell_type": "code",
   "execution_count": 106,
   "id": "f5146506",
   "metadata": {},
   "outputs": [
    {
     "name": "stdout",
     "output_type": "stream",
     "text": [
      "Kapil 23\n",
      "name 33\n",
      "Bhavna 32\n"
     ]
    }
   ],
   "source": [
    "class Test6:\n",
    "\n",
    "    \n",
    "    def __init__(self, name, age):\n",
    "        self.name = \"name\"\n",
    "        self.age = age\n",
    "        \n",
    "obj = Test6(\"Dyal\",23)\n",
    "obj1 = Test6(\"Anand\",33)\n",
    "obj2 = Test6(\"Shruti\",31)\n",
    "\n",
    "obj.name = \"Kapil\"\n",
    "obj2.age = 32\n",
    "obj2.name = \"Bhavna\"\n",
    "\n",
    "print(obj.name,obj.age)\n",
    "print(obj1.name,obj1.age)\n",
    "print(obj2.name,obj2.age)"
   ]
  },
  {
   "cell_type": "code",
   "execution_count": 121,
   "id": "1baed1ec",
   "metadata": {},
   "outputs": [
    {
     "name": "stdout",
     "output_type": "stream",
     "text": [
      "Dyal's emp id is 111 address is kallar and salary is 50000\n",
      "Anand's emp id is 108 address is Chandpur and salary is 500000\n"
     ]
    },
    {
     "ename": "AttributeError",
     "evalue": "type object 'Test6b' has no attribute 'salary'",
     "output_type": "error",
     "traceback": [
      "\u001b[1;31m---------------------------------------------------------------------------\u001b[0m",
      "\u001b[1;31mAttributeError\u001b[0m                            Traceback (most recent call last)",
      "Cell \u001b[1;32mIn[121], line 21\u001b[0m\n\u001b[0;32m     18\u001b[0m obj1 \u001b[38;5;241m=\u001b[39m Test6c(\u001b[38;5;124m\"\u001b[39m\u001b[38;5;124mAnand\u001b[39m\u001b[38;5;124m\"\u001b[39m,\u001b[38;5;241m108\u001b[39m,\u001b[38;5;124m\"\u001b[39m\u001b[38;5;124mChandpur\u001b[39m\u001b[38;5;124m\"\u001b[39m,\u001b[38;5;241m500000\u001b[39m)\n\u001b[0;32m     19\u001b[0m obj1\u001b[38;5;241m.\u001b[39miMethod()\n\u001b[1;32m---> 21\u001b[0m \u001b[38;5;28;01mdel\u001b[39;00m Test6b\u001b[38;5;241m.\u001b[39msalary      \n\u001b[0;32m     23\u001b[0m obj2 \u001b[38;5;241m=\u001b[39m Test6c(\u001b[38;5;124m'\u001b[39m\u001b[38;5;124mShruti\u001b[39m\u001b[38;5;124m'\u001b[39m,\u001b[38;5;241m112\u001b[39m,\u001b[38;5;124m\"\u001b[39m\u001b[38;5;124mKothi\u001b[39m\u001b[38;5;124m\"\u001b[39m, \u001b[38;5;241m4000\u001b[39m)\n\u001b[0;32m     24\u001b[0m obj2\u001b[38;5;241m.\u001b[39miMethod()\n",
      "\u001b[1;31mAttributeError\u001b[0m: type object 'Test6b' has no attribute 'salary'"
     ]
    }
   ],
   "source": [
    "class Test6c:\n",
    "    \n",
    "    def __init__(self, name, eid, address, salary):\n",
    "        \n",
    "        self.name = name\n",
    "        self.eid = eid\n",
    "        self.address = address\n",
    "        self.salary = salary\n",
    "        \n",
    "    def iMethod(self):\n",
    "        \n",
    "        print(\"{}'s emp id is {} address is {} and salary is {}\".format(self.name,self.eid, self.address,self.salary))\n",
    "\n",
    "obj = Test6c(\"Dyal\", 111, \"kallar\", 50000)\n",
    "obj.iMethod()\n",
    "#print(obj.name, obj.eid, obj.address, obj.salary)\n",
    "\n",
    "obj1 = Test6c(\"Anand\",108,\"Chandpur\",500000)\n",
    "obj1.iMethod()\n",
    "\n",
    "del Test6b.salary      \n",
    "\n",
    "obj2 = Test6c('Shruti',112,\"Kothi\", 4000)\n",
    "obj2.iMethod()"
   ]
  },
  {
   "cell_type": "code",
   "execution_count": 120,
   "id": "20dd6650",
   "metadata": {},
   "outputs": [
    {
     "name": "stdout",
     "output_type": "stream",
     "text": [
      "Dyal's emp id is 111 address is kallar and salary is 50000\n",
      "Anand's emp id is 108 address is Chandpur and salary is 500000\n"
     ]
    },
    {
     "ename": "AttributeError",
     "evalue": "type object 'Test6b' has no attribute 'salary'",
     "output_type": "error",
     "traceback": [
      "\u001b[1;31m---------------------------------------------------------------------------\u001b[0m",
      "\u001b[1;31mAttributeError\u001b[0m                            Traceback (most recent call last)",
      "Cell \u001b[1;32mIn[120], line 21\u001b[0m\n\u001b[0;32m     18\u001b[0m obj1 \u001b[38;5;241m=\u001b[39m Test6b(\u001b[38;5;124m\"\u001b[39m\u001b[38;5;124mAnand\u001b[39m\u001b[38;5;124m\"\u001b[39m,\u001b[38;5;241m108\u001b[39m,\u001b[38;5;124m\"\u001b[39m\u001b[38;5;124mChandpur\u001b[39m\u001b[38;5;124m\"\u001b[39m,\u001b[38;5;241m500000\u001b[39m)\n\u001b[0;32m     19\u001b[0m obj1\u001b[38;5;241m.\u001b[39miMethod()\n\u001b[1;32m---> 21\u001b[0m \u001b[38;5;28;01mdel\u001b[39;00m Test6b\u001b[38;5;241m.\u001b[39msalary      \n\u001b[0;32m     23\u001b[0m obj2 \u001b[38;5;241m=\u001b[39m Test6b(\u001b[38;5;124m'\u001b[39m\u001b[38;5;124mShruti\u001b[39m\u001b[38;5;124m'\u001b[39m,\u001b[38;5;241m112\u001b[39m,\u001b[38;5;124m\"\u001b[39m\u001b[38;5;124mKothi\u001b[39m\u001b[38;5;124m\"\u001b[39m, \u001b[38;5;241m4000\u001b[39m)\n\u001b[0;32m     24\u001b[0m obj2\u001b[38;5;241m.\u001b[39miMethod()\n",
      "\u001b[1;31mAttributeError\u001b[0m: type object 'Test6b' has no attribute 'salary'"
     ]
    }
   ],
   "source": [
    "class Test6b:\n",
    "    \n",
    "    def __init__(self, name, eid, address, salary):\n",
    "        \n",
    "        self.name = name\n",
    "        self.eid = eid\n",
    "        self.address = address\n",
    "        self.salary = salary\n",
    "        \n",
    "    def iMethod(self):\n",
    "        \n",
    "        print(\"{}'s emp id is {} address is {} and salary is {}\".format(self.name,self.eid, self.address,self.salary))\n",
    "\n",
    "obj = Test6b(\"Dyal\", 111, \"kallar\", 50000)\n",
    "obj.iMethod()\n",
    "#print(obj.name, obj.eid, obj.address, obj.salary)\n",
    "\n",
    "obj1 = Test6b(\"Anand\",108,\"Chandpur\",500000)\n",
    "obj1.iMethod()\n",
    "\n",
    "del Test6b.salary      \n",
    "\n",
    "obj2 = Test6b('Shruti',112,\"Kothi\", 4000)\n",
    "obj2.iMethod()"
   ]
  },
  {
   "cell_type": "code",
   "execution_count": 122,
   "id": "80263946",
   "metadata": {},
   "outputs": [
    {
     "name": "stdout",
     "output_type": "stream",
     "text": [
      "Dyal's emp id is 111 address is kallar and salary is 50000\n",
      "Anand's emp id is 108 address is Chandpur and salary is 500000\n",
      "Shruti's emp id is 112 address is Kothi and salary is 4000\n"
     ]
    }
   ],
   "source": [
    "class Test6a:\n",
    "    \n",
    "    def __init__(self, name, eid, address, salary):\n",
    "        \n",
    "        self.name = name\n",
    "        self.eid = eid\n",
    "        self.address = address\n",
    "        self.salary = salary\n",
    "        \n",
    "    def iMethod(self):\n",
    "        \n",
    "        print(\"{}'s emp id is {} address is {} and salary is {}\".format(self.name,self.eid, self.address,self.salary))\n",
    "\n",
    "del obj1.salary        \n",
    "\n",
    "obj = Test6a(\"Dyal\", 111, \"kallar\", 50000)\n",
    "obj.iMethod()\n",
    "#print(obj.name, obj.eid, obj.address, obj.salary)\n",
    "\n",
    "obj1 = Test6a(\"Anand\",108,\"Chandpur\",500000)\n",
    "obj1.iMethod()\n",
    "\n",
    "\n",
    "\n",
    "obj2 = Test6a('Shruti',112,\"Kothi\", 4000)\n",
    "obj2.iMethod()"
   ]
  },
  {
   "cell_type": "code",
   "execution_count": 128,
   "id": "e4003ca2",
   "metadata": {},
   "outputs": [
    {
     "ename": "AttributeError",
     "evalue": "'Test6d' object has no attribute 'salary'",
     "output_type": "error",
     "traceback": [
      "\u001b[1;31m---------------------------------------------------------------------------\u001b[0m",
      "\u001b[1;31mAttributeError\u001b[0m                            Traceback (most recent call last)",
      "Cell \u001b[1;32mIn[128], line 18\u001b[0m\n\u001b[0;32m     15\u001b[0m         \u001b[38;5;28mprint\u001b[39m(\u001b[38;5;124m\"\u001b[39m\u001b[38;5;132;01m{}\u001b[39;00m\u001b[38;5;124m'\u001b[39m\u001b[38;5;124ms emp id is \u001b[39m\u001b[38;5;132;01m{}\u001b[39;00m\u001b[38;5;124m address is \u001b[39m\u001b[38;5;132;01m{}\u001b[39;00m\u001b[38;5;124m and salary is \u001b[39m\u001b[38;5;132;01m{}\u001b[39;00m\u001b[38;5;124m\"\u001b[39m\u001b[38;5;241m.\u001b[39mformat(\u001b[38;5;28mself\u001b[39m\u001b[38;5;241m.\u001b[39mname,\u001b[38;5;28mself\u001b[39m\u001b[38;5;241m.\u001b[39meid, \u001b[38;5;28mself\u001b[39m\u001b[38;5;241m.\u001b[39maddress,\u001b[38;5;28mself\u001b[39m\u001b[38;5;241m.\u001b[39msalary))\n\u001b[0;32m     17\u001b[0m obj \u001b[38;5;241m=\u001b[39m Test6d(\u001b[38;5;124m\"\u001b[39m\u001b[38;5;124mDyal\u001b[39m\u001b[38;5;124m\"\u001b[39m, \u001b[38;5;241m111\u001b[39m, \u001b[38;5;124m\"\u001b[39m\u001b[38;5;124mkallar\u001b[39m\u001b[38;5;124m\"\u001b[39m, \u001b[38;5;241m50000\u001b[39m)\n\u001b[1;32m---> 18\u001b[0m obj\u001b[38;5;241m.\u001b[39miMethod()\n\u001b[0;32m     19\u001b[0m \u001b[38;5;66;03m#print(obj.name, obj.eid, obj.address, obj.salary)\u001b[39;00m\n\u001b[0;32m     21\u001b[0m obj1 \u001b[38;5;241m=\u001b[39m Test6d(\u001b[38;5;124m\"\u001b[39m\u001b[38;5;124mAnand\u001b[39m\u001b[38;5;124m\"\u001b[39m,\u001b[38;5;241m108\u001b[39m,\u001b[38;5;124m\"\u001b[39m\u001b[38;5;124mChandpur\u001b[39m\u001b[38;5;124m\"\u001b[39m,\u001b[38;5;241m500000\u001b[39m)\n",
      "Cell \u001b[1;32mIn[128], line 15\u001b[0m, in \u001b[0;36mTest6d.iMethod\u001b[1;34m(self)\u001b[0m\n\u001b[0;32m     13\u001b[0m \u001b[38;5;28;01mdef\u001b[39;00m \u001b[38;5;21miMethod\u001b[39m(\u001b[38;5;28mself\u001b[39m):\n\u001b[0;32m     14\u001b[0m     \u001b[38;5;28;01mdel\u001b[39;00m \u001b[38;5;28mself\u001b[39m\u001b[38;5;241m.\u001b[39msalary\n\u001b[1;32m---> 15\u001b[0m     \u001b[38;5;28mprint\u001b[39m(\u001b[38;5;124m\"\u001b[39m\u001b[38;5;132;01m{}\u001b[39;00m\u001b[38;5;124m'\u001b[39m\u001b[38;5;124ms emp id is \u001b[39m\u001b[38;5;132;01m{}\u001b[39;00m\u001b[38;5;124m address is \u001b[39m\u001b[38;5;132;01m{}\u001b[39;00m\u001b[38;5;124m and salary is \u001b[39m\u001b[38;5;132;01m{}\u001b[39;00m\u001b[38;5;124m\"\u001b[39m\u001b[38;5;241m.\u001b[39mformat(\u001b[38;5;28mself\u001b[39m\u001b[38;5;241m.\u001b[39mname,\u001b[38;5;28mself\u001b[39m\u001b[38;5;241m.\u001b[39meid, \u001b[38;5;28mself\u001b[39m\u001b[38;5;241m.\u001b[39maddress,\u001b[38;5;28mself\u001b[39m\u001b[38;5;241m.\u001b[39msalary))\n",
      "\u001b[1;31mAttributeError\u001b[0m: 'Test6d' object has no attribute 'salary'"
     ]
    }
   ],
   "source": [
    "class Test6d:\n",
    "\n",
    "    \n",
    "    def __init__(self, name, eid, address, salary):\n",
    "        \n",
    "        self.name = name\n",
    "        self.eid = eid\n",
    "        self.address = address\n",
    "        self.salary = salary\n",
    "        \n",
    "    \n",
    "    \n",
    "    def iMethod(self):\n",
    "        del self.salary\n",
    "        print(\"{}'s emp id is {} address is {} and salary is {}\".format(self.name,self.eid, self.address,self.salary))\n",
    "\n",
    "obj = Test6d(\"Dyal\", 111, \"kallar\", 50000)\n",
    "obj.iMethod()\n",
    "#print(obj.name, obj.eid, obj.address, obj.salary)\n",
    "\n",
    "obj1 = Test6d(\"Anand\",108,\"Chandpur\",500000)\n",
    "obj1.iMethod()\n",
    "\n",
    "obj2 = Test6d('Shruti',112,\"Kothi\", 4000)\n",
    "obj2.iMethod()"
   ]
  },
  {
   "cell_type": "code",
   "execution_count": 131,
   "id": "15b0e916",
   "metadata": {},
   "outputs": [
    {
     "name": "stdout",
     "output_type": "stream",
     "text": [
      "Dyal's emp id is 111 address is kallar and salary is 50000 in IT department\n",
      "Anand's emp id is 108 address is Chandpur and salary is 500000 in IT department\n",
      "Shruti's emp id is 112 address is Kothi and salary is 4000 in IT department\n"
     ]
    }
   ],
   "source": [
    "class Test6d:\n",
    "\n",
    "    \n",
    "    def __init__(self, name, eid, address, salary):\n",
    "        \n",
    "        self.name = name\n",
    "        self.eid = eid\n",
    "        self.address = address\n",
    "        self.salary = salary\n",
    "        \n",
    "        Test6d.dept = \"IT\"\n",
    "    \n",
    "    def iMethod(self):\n",
    "     \n",
    "        print(\"{}'s emp id is {} address is {} and salary is {} in {} department\".format(self.name,self.eid, self.address,self.salary,Test6d.dept))\n",
    "\n",
    "obj = Test6d(\"Dyal\", 111, \"kallar\", 50000)\n",
    "obj.iMethod()\n",
    "#print(obj.name, obj.eid, obj.address, obj.salary)\n",
    "\n",
    "obj1 = Test6d(\"Anand\",108,\"Chandpur\",500000)\n",
    "obj1.iMethod()\n",
    "\n",
    "obj2 = Test6d('Shruti',112,\"Kothi\", 4000)\n",
    "obj2.iMethod()"
   ]
  },
  {
   "cell_type": "code",
   "execution_count": null,
   "id": "73385669",
   "metadata": {},
   "outputs": [],
   "source": [
    "class Test6d:\n",
    "\n",
    "    \n",
    "    def __init__(self, name, eid, address, salary):\n",
    "        \n",
    "        self.name = name\n",
    "        self.eid = eid\n",
    "        self.address = address\n",
    "        self.salary = salary\n",
    "        \n",
    "    \n",
    "    \n",
    "    def iMethod(self):\n",
    "        del self.salary\n",
    "        print(\"{}'s emp id is {} address is {} and salary is {}\".format(self.name,self.eid, self.address,self.salary))\n",
    "\n",
    "obj = Test6d(\"Dyal\", 111, \"kallar\", 50000)\n",
    "obj.iMethod()\n",
    "#print(obj.name, obj.eid, obj.address, obj.salary)\n",
    "\n",
    "obj1 = Test6d(\"Anand\",108,\"Chandpur\",500000)\n",
    "obj1.iMethod()\n",
    "\n",
    "obj2 = Test6d('Shruti',112,\"Kothi\", 4000)\n",
    "obj2.iMethod()"
   ]
  }
 ],
 "metadata": {
  "kernelspec": {
   "display_name": "Python 3 (ipykernel)",
   "language": "python",
   "name": "python3"
  },
  "language_info": {
   "codemirror_mode": {
    "name": "ipython",
    "version": 3
   },
   "file_extension": ".py",
   "mimetype": "text/x-python",
   "name": "python",
   "nbconvert_exporter": "python",
   "pygments_lexer": "ipython3",
   "version": "3.11.5"
  }
 },
 "nbformat": 4,
 "nbformat_minor": 5
}
