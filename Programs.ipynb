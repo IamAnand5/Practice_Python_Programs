{
 "cells": [
  {
   "cell_type": "code",
   "execution_count": 1,
   "id": "9fdf0d03",
   "metadata": {},
   "outputs": [
    {
     "name": "stdout",
     "output_type": "stream",
     "text": [
      "Hello World\n"
     ]
    }
   ],
   "source": [
    "print(\"Hello World\")"
   ]
  },
  {
   "cell_type": "code",
   "execution_count": 2,
   "id": "09bd07dc",
   "metadata": {},
   "outputs": [
    {
     "name": "stdout",
     "output_type": "stream",
     "text": [
      "11\n"
     ]
    }
   ],
   "source": [
    "a=5\n",
    "b=6\n",
    "sum=a+b\n",
    "print(sum)"
   ]
  },
  {
   "cell_type": "code",
   "execution_count": 3,
   "id": "779a49c8",
   "metadata": {},
   "outputs": [
    {
     "name": "stdout",
     "output_type": "stream",
     "text": [
      "54\n"
     ]
    }
   ],
   "source": [
    "a='5'\n",
    "b=\"4\"\n",
    "sum=a+b\n",
    "print(sum)"
   ]
  },
  {
   "cell_type": "code",
   "execution_count": 1,
   "id": "2eaa623a",
   "metadata": {},
   "outputs": [
    {
     "name": "stdout",
     "output_type": "stream",
     "text": [
      "Enter the value of a: 45\n",
      "Enter the value of b: 85\n",
      "The sum of two numbers is: 130.0\n"
     ]
    }
   ],
   "source": [
    "a=int(input (\"Enter the value of a: \"))\n",
    "b= int(input(\"Enter the value of b: \"))\n",
    "sum=int(a)+int(b)\n",
    "print(\"The sum of two numbers is:\",float(sum))\n"
   ]
  },
  {
   "cell_type": "code",
   "execution_count": null,
   "id": "1c8a384a",
   "metadata": {},
   "outputs": [],
   "source": [
    "name = \"Anand\"\n",
    "print (name)"
   ]
  },
  {
   "cell_type": "code",
   "execution_count": null,
   "id": "b7e22cec",
   "metadata": {},
   "outputs": [],
   "source": [
    "L=[1,2,3,4,5]\n",
    "L[0]=100\n",
    "min(L)\n",
    "max(L)"
   ]
  },
  {
   "cell_type": "code",
   "execution_count": null,
   "id": "9ad71620",
   "metadata": {},
   "outputs": [],
   "source": [
    "s={1,2,3,4,5}\n",
    "list(s)\n",
    "s.add(6)\n",
    "s\n",
    "id(s)\n",
    "s.add(7)\n",
    "s\n",
    "id(s)"
   ]
  },
  {
   "cell_type": "code",
   "execution_count": null,
   "id": "12fd3f20",
   "metadata": {},
   "outputs": [],
   "source": [
    "# Display odd numbers from 0 to 30\n",
    "# Display numbers from 10 to 1 in descending order\n",
    "# Print sum of numbers present in the list\n",
    "# Print numbers from 1 to 10 by using while loop\n",
    "# Display sum of the first n numbers\n",
    "# program to prompt user to enter some name until entering \"Anand\"\n",
    "# Program to display '*' in right angled triangled form\n",
    "# Program to display '*' in the Pyramid form\n",
    "# Print given number of '*' in a row\n",
    "# Print square pattern with '*' symbols\n",
    "# Print square patter with provided fixed digit in every row\n",
    "# 111\n",
    "# 222\n",
    "# 333\n",
    "# Print square pattern with Alphabet sysbols: chr(65+i)\n",
    "# Print inverted Pyramid Pattern with '*' symbols"
   ]
  },
  {
   "cell_type": "code",
   "execution_count": null,
   "id": "b65c11b8",
   "metadata": {},
   "outputs": [],
   "source": [
    "# Display odd numbers from 0 to 30\n",
    "for i in range(1,30,2):\n",
    "    print(i)"
   ]
  },
  {
   "cell_type": "code",
   "execution_count": null,
   "id": "331d7883",
   "metadata": {},
   "outputs": [],
   "source": [
    "# Display numbers from 10 to 1 in descending order\n",
    "for i in range (10,0,-1):\n",
    "    print(i)"
   ]
  },
  {
   "cell_type": "code",
   "execution_count": null,
   "id": "c7d68d58",
   "metadata": {},
   "outputs": [],
   "source": [
    "# Print sum of numbers present in the list\n",
    "numbers = [4,3,5,2,6,7,8,2]\n",
    "#sum(numbers)\n",
    "sum=0\n",
    "for i in range(len(numbers)):\n",
    "    \n",
    "    sum=sum+numbers[i]\n",
    "    print(sum)"
   ]
  },
  {
   "cell_type": "code",
   "execution_count": null,
   "id": "a52912a6",
   "metadata": {},
   "outputs": [],
   "source": [
    "# Print numbers from 1 to 10 by using while loop\n",
    "n=0\n",
    "while n<=11:\n",
    "    print(n)\n",
    "    n=n+1\n",
    "# Print numbers from 1 to 10 by using while loop\n",
    "# i=0\n",
    "# while i<11:\n",
    "#   print(i)\n",
    "#   i=i+1"
   ]
  },
  {
   "cell_type": "code",
   "execution_count": null,
   "id": "b463154d",
   "metadata": {},
   "outputs": [],
   "source": [
    "# Display sum of the first n numbers\n",
    "n=10\n",
    "sum=0\n",
    "for i in range(1,n+1):\n",
    "    sum=sum+i\n",
    "    print(sum)"
   ]
  },
  {
   "cell_type": "code",
   "execution_count": null,
   "id": "bda59145",
   "metadata": {},
   "outputs": [],
   "source": [
    "# program to prompt user to enter some name until entering \"Anand\"\n",
    "x=0\n",
    "while x != 'Anand':\n",
    "  x=input(\"Enter name: \")\n",
    "  if x=='Anand':\n",
    "    print(\"Congratulations! You entered it finally\")\n",
    "    print(x)\n",
    "  else:\n",
    "    print(\"You entered wrong!\")\n",
    "    print(\"Please enter again!\")"
   ]
  },
  {
   "cell_type": "code",
   "execution_count": null,
   "id": "477957f6",
   "metadata": {},
   "outputs": [],
   "source": [
    "# Program to display '*' in right angled triangled form\n",
    "for i in range(0,6):\n",
    "    for j in range(i+1):\n",
    "        print(\"*\",end=\"\")\n",
    "    print()"
   ]
  },
  {
   "cell_type": "code",
   "execution_count": null,
   "id": "5d74125b",
   "metadata": {},
   "outputs": [],
   "source": [
    "# Program to display '*' in the Pyramid form\n",
    "for i in range(6,1):\n",
    "    for j in range(i,6):\n",
    "        print(\"*\",end='')\n",
    "    print()\n",
    "# for i in range(6):\n",
    "#     for j in range(0,i):\n",
    "#         print(\"*\",end=\"\")\n",
    "#     print()"
   ]
  },
  {
   "cell_type": "code",
   "execution_count": null,
   "id": "64d019dd",
   "metadata": {},
   "outputs": [],
   "source": [
    "# Print given number of '*' in a row\n"
   ]
  },
  {
   "cell_type": "code",
   "execution_count": null,
   "id": "a7eadab7",
   "metadata": {},
   "outputs": [],
   "source": [
    "# Print square pattern with '*' symbols\n",
    "for i in range(5):\n",
    "    for j in range(5):\n",
    "        print(\"*\",end=\"\")\n",
    "    print(\"\")"
   ]
  },
  {
   "cell_type": "code",
   "execution_count": null,
   "id": "cd127ba3",
   "metadata": {},
   "outputs": [],
   "source": [
    "# Print square pattern with provided fixed digit in every row\n",
    "# 111\n",
    "# 222\n",
    "# 333\n",
    "\n",
    "for i in range(5):\n",
    "    for j in range(5):\n",
    "        print(i,end='')\n",
    "    print('')"
   ]
  },
  {
   "cell_type": "code",
   "execution_count": null,
   "id": "4f698d08",
   "metadata": {},
   "outputs": [],
   "source": [
    "# Print square pattern with Alphabet sysbols: chr(65+i)\n",
    "for i in range(5):\n",
    "    for j in range(5):\n",
    "        print(chr(65+i),end='')\n",
    "    print('')"
   ]
  },
  {
   "cell_type": "code",
   "execution_count": null,
   "id": "cea8f49f",
   "metadata": {},
   "outputs": [],
   "source": [
    "# Print inverted Pyramid Pattern with '*' symbols\n",
    "for i in range(5,1):\n",
    "    for j in range(i,1):\n",
    "        print(j,end=\"\")\n",
    "    print()"
   ]
  },
  {
   "cell_type": "code",
   "execution_count": null,
   "id": "c2a22792",
   "metadata": {},
   "outputs": [],
   "source": [
    "# Example 1: Print the first 10 natural numbers using for loop.\n",
    "# Example 2: Python program to print all the even numbers within the given range.\n",
    "# Example 3: Python program to calculate the sum of all numbers from 1 to a given number.\n",
    "# Example 4: Python program to calculate the sum of all the odd numbers within the given range.\n",
    "# Example 5: Python program to print a multiplication table of a given number\n",
    "# Example 6: Python program to display numbers from a list using a for loop.\n",
    "# Example 7: Python program to count the total number of digits in a number.\n",
    "# Example 8: Python program to check if the given string is a palindrome.\n",
    "# Example 9: Python program that accepts a word from the user and reverses it.\n",
    "# Example 10: Python program to check if a given number is an Armstrong number\n",
    "# Example 11: Python program to count the number of even and odd numbers from a series of numbers.\n",
    "# Example 12: Python program to display all numbers within a range except the prime numbers.\n",
    "# Example 13: Python program to get the Fibonacci series between 0 to 50.\n",
    "# Example 14: Python program to find the factorial of a given number.\n",
    "# Example 15: Python program that accepts a string and calculates the number of digits and letters.\n",
    "# Example 16: Write a Python program that iterates the integers from 1 to 25.\n",
    "# Example 17: Python program to check the validity of password input by users.\n",
    "# Example 18: Python program to convert the month name to a number of days."
   ]
  },
  {
   "cell_type": "code",
   "execution_count": 2,
   "id": "e5cfdbbe",
   "metadata": {},
   "outputs": [
    {
     "name": "stdout",
     "output_type": "stream",
     "text": [
      "53.333333333333336\n"
     ]
    },
    {
     "data": {
      "text/plain": [
       "53.333333333333336"
      ]
     },
     "execution_count": 2,
     "metadata": {},
     "output_type": "execute_result"
    }
   ],
   "source": [
    "#functions \n",
    "#create a function to print the average of three numbers\n",
    "\n",
    "def average(a,b,c):\n",
    "    sum = a+b+c\n",
    "    average=sum/3\n",
    "    print(average)\n",
    "    return average\n",
    "average(53,54,53)\n"
   ]
  },
  {
   "cell_type": "code",
   "execution_count": 2,
   "id": "7cc84f89",
   "metadata": {},
   "outputs": [
    {
     "name": "stdout",
     "output_type": "stream",
     "text": [
      "6\n",
      "13\n"
     ]
    }
   ],
   "source": [
    "#Write a function to print the length of a list (list is the parameter)\n",
    "\n",
    "cities=[\"Simoga\",\"Bilaspur\",\"Canada\",\"Australia\",\"Hamirpur\",\"Delhi\"]\n",
    "numbers=[4,55,3,44,55,7,74,82,24,56,33,67,90]\n",
    "\n",
    "def cities_len(list):        #function definition\n",
    "    print(len(list))\n",
    "    \n",
    "cities_len(cities)             #function call\n",
    "cities_len(numbers)"
   ]
  },
  {
   "cell_type": "code",
   "execution_count": 4,
   "id": "7d881c37",
   "metadata": {},
   "outputs": [
    {
     "name": "stdout",
     "output_type": "stream",
     "text": [
      "Dilli Hai Dil Walon Ki !!! "
     ]
    }
   ],
   "source": [
    "#Write a function to print the elements of the list\n",
    "\n",
    "cities=[\"Dilli\",\"Hai\",\"Dil\",\"Walon\",\"Ki\",\"!!!\"]\n",
    "\n",
    "def print_list(list):\n",
    "    for i in cities:\n",
    "        print(i,end=\" \")\n",
    "print_list(cities)"
   ]
  },
  {
   "cell_type": "code",
   "execution_count": 5,
   "id": "0667617e",
   "metadata": {},
   "outputs": [
    {
     "name": "stdout",
     "output_type": "stream",
     "text": [
      "\n",
      "1 \n",
      "2 2 \n",
      "3 3 3 \n",
      "4 4 4 4 \n",
      "5 5 5 5 5 \n"
     ]
    }
   ],
   "source": [
    "for i in range(0,6):\n",
    "    for j in range(0,i):\n",
    "        print(i,end=\" \")\n",
    "    print(\"\")\n",
    "        "
   ]
  },
  {
   "cell_type": "code",
   "execution_count": 4,
   "id": "c208bcf6",
   "metadata": {},
   "outputs": [
    {
     "name": "stdout",
     "output_type": "stream",
     "text": [
      "Enter the age of person A: 25\n",
      "Enter the age of person B: 64\n",
      "Enter the age of person C: 84\n",
      "Person aged 84 is Oldest\n"
     ]
    }
   ],
   "source": [
    "# 1. User will input (3ages).Find the oldest one\n",
    "\n",
    "a = int(input(\"Enter the age of person A: \"))\n",
    "b = int(input(\"Enter the age of person B: \"))\n",
    "c = int(input(\"Enter the age of person C: \"))\n",
    "max = a\n",
    "if max<b:\n",
    "    max = b\n",
    "if max<c:\n",
    "    max = c\n",
    "print(\"Person aged\",max, \"is Oldest\")"
   ]
  },
  {
   "cell_type": "code",
   "execution_count": 3,
   "id": "1ce33c31",
   "metadata": {},
   "outputs": [
    {
     "name": "stdout",
     "output_type": "stream",
     "text": [
      "Enter the Temperature in Celsius: 65\n",
      "Temperature in Fahrenheit is: 149.0\n"
     ]
    }
   ],
   "source": [
    "#2. Write a program that will convert celsius value to fahrenheit\n",
    "# formoula to convert celsius to fahrenheit =(temperature × 1.8) + 32\n",
    "\n",
    "temp = float(input(\"Enter the Temperature in Celsius: \"))\n",
    "fahrenheit = (temp*1.8)+32\n",
    "print(\"Temperature in Fahrenheit is:\",fahrenheit)"
   ]
  },
  {
   "cell_type": "code",
   "execution_count": 5,
   "id": "46edaaa5",
   "metadata": {},
   "outputs": [
    {
     "name": "stdout",
     "output_type": "stream",
     "text": [
      "Numbers before Swapping:\n",
      "First number: 56\n",
      "Second number: 87\n",
      "Numbers after Swapping:\n",
      "First Number: 87 \n",
      " Second Number: 56\n"
     ]
    }
   ],
   "source": [
    "#3. User will input (2numbers).Write a program to swap the number\n",
    "\n",
    "print(\"Numbers before Swapping:\")\n",
    "\n",
    "a = int(input(\"First number: \"))\n",
    "b = int(input(\"Second number: \"))\n",
    "\n",
    "temp = a\n",
    "a = b\n",
    "b = temp\n",
    "\n",
    "print(\"Numbers after Swapping:\")\n",
    "print(\"First Number:\",a,\"\\n\",\"Second Number:\",b)"
   ]
  },
  {
   "cell_type": "markdown",
   "id": "a1f9f471",
   "metadata": {},
   "source": [
    "#### Before move down to next program lets have a look at types of division operator"
   ]
  },
  {
   "cell_type": "code",
   "execution_count": 9,
   "id": "4f7c85ad",
   "metadata": {},
   "outputs": [
    {
     "name": "stdout",
     "output_type": "stream",
     "text": [
      "5.0\n",
      "-2.0\n",
      "2.6\n",
      "-2.5714285714285716\n"
     ]
    }
   ],
   "source": [
    "#float division: returns the result in floating values\n",
    "print(10/2)  #5.0\n",
    "print(-10/5)  #-2.0\n",
    "print(13/5)   #2.6\n",
    "print(-18/7)  #-2.571"
   ]
  },
  {
   "cell_type": "code",
   "execution_count": 10,
   "id": "b4db8757",
   "metadata": {},
   "outputs": [
    {
     "name": "stdout",
     "output_type": "stream",
     "text": [
      "1\n",
      "3\n",
      "1\n",
      "7.0\n",
      "-6.0\n",
      "1\n",
      "-2\n"
     ]
    }
   ],
   "source": [
    "#integer division: returns the quotient\n",
    "print(5//5)   #1\n",
    "print(10//3)\n",
    "print(3//2)\n",
    "print(30.0//4)\n",
    "print(-30.0//5)\n",
    "print(3//2)\n",
    "print(-3//2)"
   ]
  },
  {
   "cell_type": "code",
   "execution_count": 11,
   "id": "98875d4a",
   "metadata": {},
   "outputs": [
    {
     "name": "stdout",
     "output_type": "stream",
     "text": [
      "1\n",
      "2\n",
      "4\n"
     ]
    }
   ],
   "source": [
    "#Modulus division (returns remainder)\n",
    "print(3%2)\n",
    "print(6%4)\n",
    "print(10%6)"
   ]
  },
  {
   "cell_type": "code",
   "execution_count": 8,
   "id": "82ef1d97",
   "metadata": {},
   "outputs": [
    {
     "name": "stdout",
     "output_type": "stream",
     "text": [
      "Enter a three digit number:528\n",
      "15\n"
     ]
    }
   ],
   "source": [
    "#4. Write a program that will give you the sum of 3 digits\n",
    "# use % and // division techniques to find the sum of digits\n",
    "\n",
    "num = int(input(\"Enter a three digit number:\"))\n",
    "a = num%10\n",
    "#print(a)\n",
    "num = num//10    #a\n",
    "#print(num)\n",
    "\n",
    "b = num%10   #b\n",
    "#print(b)\n",
    "\n",
    "c = num//10   #c\n",
    "#print(c)\n",
    "\n",
    "sum_dig = a+b+c\n",
    "print(sum_dig)"
   ]
  },
  {
   "cell_type": "code",
   "execution_count": 9,
   "id": "3dbe66d5",
   "metadata": {},
   "outputs": [
    {
     "name": "stdout",
     "output_type": "stream",
     "text": [
      "Enter a four digit number:2456\n",
      "Original Number is: 2456\n",
      "Reversed Number is: 6542\n",
      "False\n"
     ]
    }
   ],
   "source": [
    "#5. Write a program that will reverse a four digit number. Also it checks whether the reverse is true.\n",
    "\n",
    "user_input = int(input(\"Enter a four digit number:\"))\n",
    "\n",
    "num = user_input\n",
    "\n",
    "a = num%10   #returns remainder i.e. last digit\n",
    "num = num//10  #returns quotient i.e. remaining first three digits\n",
    "\n",
    "b = num%10\n",
    "num = num//10\n",
    "\n",
    "c = num%10\n",
    "d = num//10\n",
    "\n",
    "rev_num = 1000*a+100*b+10*c+d\n",
    "\n",
    "print(\"Original Number is:\", user_input)\n",
    "print(\"Reversed Number is:\", rev_num)\n",
    "\n",
    "#check\n",
    "if user_input == rev_num:\n",
    "    print(\"True\")\n",
    "else:\n",
    "    print(\"False\")"
   ]
  },
  {
   "cell_type": "code",
   "execution_count": 10,
   "id": "037cb107",
   "metadata": {},
   "outputs": [
    {
     "name": "stdout",
     "output_type": "stream",
     "text": [
      "Enter a number:2\n",
      "Number is Even\n"
     ]
    }
   ],
   "source": [
    "#6. Write a program that will tell whether the number entered by the user is odd or even.\n",
    "num = int(input(\"Enter a number:\"))\n",
    "if num%2==0:\n",
    "    print(\"Number is Even\")\n",
    "else:\n",
    "    print(\"Number is Odd\")"
   ]
  },
  {
   "cell_type": "code",
   "execution_count": 11,
   "id": "4ab1a509",
   "metadata": {},
   "outputs": [
    {
     "name": "stdout",
     "output_type": "stream",
     "text": [
      "Enter the Year:2004\n",
      "Entered year is a Leap Year\n"
     ]
    }
   ],
   "source": [
    "#7. Write a program that will tell whether the given year is a leap year or not.\n",
    "\n",
    "year = int(input(\"Enter the Year:\"))\n",
    "\n",
    "if year%4==0:\n",
    "    print(\"Entered year is a Leap Year\")\n",
    "else:\n",
    "    print(\"Entered year is not a Leap Year\")"
   ]
  },
  {
   "cell_type": "code",
   "execution_count": 15,
   "id": "d5dabd17",
   "metadata": {},
   "outputs": [
    {
     "name": "stdout",
     "output_type": "stream",
     "text": [
      "Enter x1 of x coordinate: 5\n",
      "Enter y1 of y coordinate: 3\n",
      "Enter x2 of x coordinate: 4\n",
      "Enter y2 of y coordinate: 6\n",
      "uclidean distance between two coordinates:  3.1622776601683795\n"
     ]
    }
   ],
   "source": [
    "#8. Write a program to find the euclidean distance between two coordinates.\n",
    "\n",
    "import math as m\n",
    "\n",
    "x1 = float(input(\"Enter x1 of x coordinate: \"))\n",
    "y1 = float(input(\"Enter y1 of y coordinate: \"))\n",
    "x2 = float(input(\"Enter x2 of x coordinate: \"))\n",
    "y2 = float(input(\"Enter y2 of y coordinate: \"))\n",
    "\n",
    "distance = m.sqrt((x2-x1)**2 + (y2-y1)**2)\n",
    "\n",
    "print(\"uclidean distance between two coordinates: \",distance)"
   ]
  },
  {
   "cell_type": "code",
   "execution_count": 20,
   "id": "be7f1bb7",
   "metadata": {},
   "outputs": [
    {
     "name": "stdout",
     "output_type": "stream",
     "text": [
      "Enter angle a:65\n",
      "Enter angle b:50\n",
      "Enter angle c:65\n",
      "It is possible to make a Triangle\n"
     ]
    }
   ],
   "source": [
    "#9. Write a program that take a user input of three angles and will find out whether it can form a triangle or not.\n",
    "# We know that the sum of angles in triangle=180\n",
    "\n",
    "angle_a = int(input(\"Enter angle a:\"))\n",
    "angle_b = int(input(\"Enter angle b:\"))\n",
    "angle_c = int(input(\"Enter angle c:\"))\n",
    "\n",
    "if angle_a + angle_b + angle_c == 180 and angle_a !=0 and angle_b !=0 and angle_c !=0:\n",
    "    print(\"It is possible to make a Triangle\")\n",
    "else:\n",
    "    print(\"Triangle can't be formed\")"
   ]
  },
  {
   "cell_type": "code",
   "execution_count": 21,
   "id": "e5a82960",
   "metadata": {},
   "outputs": [
    {
     "name": "stdout",
     "output_type": "stream",
     "text": [
      "Enter the base:6\n",
      "Enter the height:8\n",
      "Area is: 24.0\n"
     ]
    }
   ],
   "source": [
    "#9a. Write a program to take base and height from user and find the area of right angled triangle\n",
    "\n",
    "base = int(input(\"Enter the base:\"))\n",
    "height = int(input(\"Enter the height:\"))\n",
    "\n",
    "area = 1/2*(base*height)\n",
    "\n",
    "print(\"Area is:\", area)"
   ]
  },
  {
   "cell_type": "code",
   "execution_count": 22,
   "id": "d3f2a67a",
   "metadata": {},
   "outputs": [
    {
     "name": "stdout",
     "output_type": "stream",
     "text": [
      "Enter the cost price:850\n",
      "Enter the selling price:650\n",
      "Sorry! it's a Loss of  200.0\n"
     ]
    }
   ],
   "source": [
    "#10. Write a program that will take user input of cost price and selling price and determines whether its a loss or a profit\n",
    "\n",
    "cost_price = float(input(\"Enter the cost price:\"))\n",
    "selling_price = float(input(\"Enter the selling price:\"))\n",
    "\n",
    "amount = 0\n",
    "\n",
    "if cost_price>selling_price:\n",
    "\n",
    "    amount = cost_price - selling_price\n",
    "    \n",
    "    print(\"Sorry! it's a Loss of \",amount)\n",
    "\n",
    "else:\n",
    "    \n",
    "    amount = selling_price - cost_price\n",
    "    \n",
    "    print(\"Yeah! You are in Profit of \",amount)"
   ]
  },
  {
   "cell_type": "code",
   "execution_count": 24,
   "id": "dde3c861",
   "metadata": {},
   "outputs": [
    {
     "name": "stdout",
     "output_type": "stream",
     "text": [
      "Enter Principle amount:90000\n",
      "Enter the rate of interest:8\n",
      "Enter the time period:10\n",
      "The simple interest is:  72000.0\n",
      "Total amount: 162000.0\n"
     ]
    }
   ],
   "source": [
    "#11. Write a program to find the simple interest and total amount when the value of principle,rate of interest and time period is given.\n",
    "\n",
    "principle = int(input(\"Enter Principle amount:\"))\n",
    "roi = int(input(\"Enter the rate of interest:\"))\n",
    "time_period =int(input(\"Enter the time period:\"))\n",
    "\n",
    "simple_interest = (principle*roi*time_period)/100\n",
    "\n",
    "print(\"The simple interest is: \",simple_interest)\n",
    "\n",
    "total_amount = simple_interest + principle\n",
    "\n",
    "print(\"Total amount:\",total_amount)"
   ]
  },
  {
   "cell_type": "code",
   "execution_count": 28,
   "id": "9e24ab78",
   "metadata": {},
   "outputs": [
    {
     "name": "stdout",
     "output_type": "stream",
     "text": [
      "Enter the radius: 5\n",
      "Enter the height: 7\n",
      "The volume of cyllinder is:  549.5\n",
      "The cost is:  21.98\n"
     ]
    }
   ],
   "source": [
    "#12. Write a program to find the volume of the cylinder. Also find the cost, when the cost of 1litre milk is 40Rs.\n",
    "# Volume of cyllinder= pie*r*r*h. (pie=3.14)\n",
    "\n",
    "radius = float(input(\"Enter the radius: \"))\n",
    "height = float(input(\"Enter the height: \"))\n",
    "\n",
    "volume = 3.14 * radius * radius * height\n",
    "\n",
    "print(\"The volume of cyllinder is: \",volume)\n",
    "\n",
    "cost = volume/1000 * 40\n",
    "\n",
    "print(\"The cost is: \",cost)"
   ]
  },
  {
   "cell_type": "code",
   "execution_count": 34,
   "id": "77c765f5",
   "metadata": {},
   "outputs": [
    {
     "name": "stdout",
     "output_type": "stream",
     "text": [
      "Enter a number: 24\n",
      "24 is divisible by 3 and 6\n"
     ]
    }
   ],
   "source": [
    "#13. Write a program that will tell whether the given number is divisible by 3 & 6.\n",
    "\n",
    "num = int(input('Enter a number: '))\n",
    "\n",
    "if num%3 == 0 and num%6==0:\n",
    "    print(num, \"is divisible by 3 and 6\")\n",
    "    \n",
    "else:\n",
    "    print(num, \"is not divisible by 3 and 6\")"
   ]
  },
  {
   "cell_type": "code",
   "execution_count": 44,
   "id": "ff6a4ede",
   "metadata": {},
   "outputs": [
    {
     "name": "stdout",
     "output_type": "stream",
     "text": [
      "Enter first digit: 2\n",
      "Enter second digit: 4\n",
      "Enter third digit: 6\n",
      "The sum of square of each digit is:  56\n"
     ]
    }
   ],
   "source": [
    "#16. Write a program that will take three digits from the user and add the square of each digit\n",
    "\n",
    "a = int(input(\"Enter first digit: \"))\n",
    "b = int(input(\"Enter second digit: \"))\n",
    "c = int(input(\"Enter third digit: \"))\n",
    "\n",
    "aSquare = a**2\n",
    "bSquare = b**2\n",
    "cSquare = c**2\n",
    "\n",
    "sum = aSquare + bSquare + cSquare\n",
    "\n",
    "print(\"The sum of square of each digit is: \",sum)"
   ]
  },
  {
   "cell_type": "code",
   "execution_count": 42,
   "id": "a67d5e04",
   "metadata": {},
   "outputs": [
    {
     "name": "stdout",
     "output_type": "stream",
     "text": [
      "Enter the Temperature in celcius: 31\n",
      "Enter the Humidity percentage: 91\n",
      "Weather is Hot and Humit\n"
     ]
    }
   ],
   "source": [
    "#17. Write a program that will determine weather when the value of temperature and humidity is provided by the user. Given that:\n",
    "\n",
    "# TEMPERATURE(C)            HUMIDITY(%)             WEATHER\n",
    "\n",
    "# >= 30                        >=90                Hot and Humid\n",
    "# >= 30                         < 90                 Hot\n",
    "# <30                         >= 90                Cool and Humid\n",
    "# <30                          <90                   Cool\n",
    "    \n",
    "    \n",
    "temperature = int(input(\"Enter the Temperature in celcius: \"))\n",
    "humidity = int(input(\"Enter the Humidity percentage: \"))\n",
    "\n",
    "if temperature >= 30 and humidity >= 90:\n",
    "    print(\"Weather is Hot and Humid\")\n",
    "    \n",
    "elif temperature >= 30 and humidity < 90:\n",
    "        print(\"Weather is Hot\")\n",
    "    \n",
    "elif temperature < 30 and humidity >= 90:\n",
    "        print(\"Weather is Cool and Humid\")\n",
    "                \n",
    "else:\n",
    "        print(\"Weather is Cool\")"
   ]
  },
  {
   "cell_type": "code",
   "execution_count": 49,
   "id": "29d4cc22",
   "metadata": {},
   "outputs": [
    {
     "name": "stdout",
     "output_type": "stream",
     "text": [
      "Enter a Number: 371\n",
      "Entered number is Armstrong Number\n"
     ]
    }
   ],
   "source": [
    "#18. Write a program that will check whether the number is armstrong number or not.\n",
    "\n",
    "user_input = int(input(\"Enter a Number: \"))\n",
    "num = user_input\n",
    "\n",
    "a = num%10\n",
    "num = num//10\n",
    "b = num%10\n",
    "c = num//10\n",
    "cubeSum = (a**3 + b**3 + c**3)\n",
    "\n",
    "if cubeSum==user_input:\n",
    "    print('Entered number is Armstrong Number')\n",
    "else:\n",
    "    print(\"Entered number is not Armstrong Number\")"
   ]
  },
  {
   "cell_type": "code",
   "execution_count": 57,
   "id": "4cc7d220",
   "metadata": {},
   "outputs": [
    {
     "name": "stdout",
     "output_type": "stream",
     "text": [
      "Enter a four digit number: 8208\n",
      "Entered number is Narcissistic number\n"
     ]
    }
   ],
   "source": [
    "#19. Write a program that will take user input of (4 digits number) and check whether the number is narcissist number or not.\n",
    "\n",
    "user_input = int(input('Enter a four digit number: '))\n",
    "num =  user_input\n",
    "\n",
    "a = num%10\n",
    "num = num//10\n",
    "b = num%10\n",
    "num = num//10\n",
    "c = num%10\n",
    "d = num//10\n",
    "\n",
    "if (a**4) + (b**4) + (c**4) + (d**4) == user_input:\n",
    "    print(\"Entered number is Narcissistic number\")\n",
    "else:\n",
    "    print(\"Entered number is not a Narcissistic number\")\n",
    "    \n"
   ]
  },
  {
   "cell_type": "code",
   "execution_count": null,
   "id": "04e07acd",
   "metadata": {},
   "outputs": [],
   "source": [
    "#20. Write a program that will give you the in hand salary after deduction of HRA(10%),DA(5%),PF(3%), and tax(if salary is \n",
    "#between 5-10 lakh–10%),(11-20lakh–20%),(20< _ – 30%)(0-1lakh print k).\n",
    "\n"
   ]
  },
  {
   "cell_type": "code",
   "execution_count": null,
   "id": "2861565f",
   "metadata": {},
   "outputs": [],
   "source": [
    "#21. Write a menu driven program - 1.cm to ft 2.kl to miles 3.usd to inr 4.exit"
   ]
  },
  {
   "cell_type": "code",
   "execution_count": null,
   "id": "e6cd8155",
   "metadata": {},
   "outputs": [],
   "source": [
    "#22.Write a program that will tell the number of dogs and chicken are there when the user will provide the value of total heads and legs."
   ]
  },
  {
   "cell_type": "code",
   "execution_count": null,
   "id": "043b2e66",
   "metadata": {},
   "outputs": [],
   "source": [
    "#23.Write a program that will swap numbers"
   ]
  },
  {
   "cell_type": "code",
   "execution_count": null,
   "id": "bafec957",
   "metadata": {},
   "outputs": [],
   "source": [
    "#24.Write a program to find the sum of first n numbers, where n will be\n",
    "provided by the user. Eg if the user provides n=10 the output should be\n",
    "55."
   ]
  }
 ],
 "metadata": {
  "kernelspec": {
   "display_name": "Python 3 (ipykernel)",
   "language": "python",
   "name": "python3"
  },
  "language_info": {
   "codemirror_mode": {
    "name": "ipython",
    "version": 3
   },
   "file_extension": ".py",
   "mimetype": "text/x-python",
   "name": "python",
   "nbconvert_exporter": "python",
   "pygments_lexer": "ipython3",
   "version": "3.11.5"
  }
 },
 "nbformat": 4,
 "nbformat_minor": 5
}
