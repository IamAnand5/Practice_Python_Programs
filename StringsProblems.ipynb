{
 "cells": [
  {
   "cell_type": "code",
   "execution_count": 1,
   "id": "1509d3f3",
   "metadata": {},
   "outputs": [
    {
     "name": "stdout",
     "output_type": "stream",
     "text": [
      "Enter x:20\n",
      "Enter y:25\n",
      "-5\n"
     ]
    }
   ],
   "source": [
    "def sub(x,y):\n",
    "    c = x - y\n",
    "    #return c\n",
    "    print(c)\n",
    "x = int(input('Enter x:'))\n",
    "y = int(input('Enter y:'))\n",
    "#print(sub(x,y))\n",
    "sub(x,y)\n"
   ]
  },
  {
   "cell_type": "code",
   "execution_count": 2,
   "id": "740347a4",
   "metadata": {},
   "outputs": [
    {
     "name": "stdout",
     "output_type": "stream",
     "text": [
      "Hello abc goodmorning\n"
     ]
    }
   ],
   "source": [
    "def greet(name, msg):\n",
    "    print(\"Hello\",msg,name)\n",
    "greet(\"goodmorning\",\"abc\")"
   ]
  },
  {
   "cell_type": "code",
   "execution_count": 3,
   "id": "22c78aab",
   "metadata": {},
   "outputs": [
    {
     "name": "stdout",
     "output_type": "stream",
     "text": [
      "Hello goodmorning 16\n"
     ]
    }
   ],
   "source": [
    "def greet(name, age):\n",
    "    print(\"Hello\",name,age)\n",
    "greet(\"goodmorning\",16)"
   ]
  },
  {
   "cell_type": "code",
   "execution_count": 4,
   "id": "29b9aea9",
   "metadata": {},
   "outputs": [
    {
     "name": "stdout",
     "output_type": "stream",
     "text": [
      "<__main__.credentials object at 0x000002156BA3B890>\n"
     ]
    }
   ],
   "source": [
    "class credentials:\n",
    "    def __init__(self,name):\n",
    "        self.name = name\n",
    "emp = credentials('abc')\n",
    "print(emp)"
   ]
  },
  {
   "cell_type": "code",
   "execution_count": 5,
   "id": "e2541e74",
   "metadata": {},
   "outputs": [
    {
     "name": "stdout",
     "output_type": "stream",
     "text": [
      "subtraction is: 10\n",
      "10\n"
     ]
    }
   ],
   "source": [
    "def cal(a,b):\n",
    "    sub = a-b\n",
    "    print(\"subtraction is:\",sub)\n",
    "    return sub\n",
    "c = cal(20,10)\n",
    "print(c)"
   ]
  },
  {
   "cell_type": "markdown",
   "id": "7886fc25",
   "metadata": {},
   "source": [
    "### Given a string create short form of the string from Initial character. Short form should be capitalised."
   ]
  },
  {
   "cell_type": "code",
   "execution_count": 6,
   "id": "7ac61105",
   "metadata": {},
   "outputs": [
    {
     "name": "stdout",
     "output_type": "stream",
     "text": [
      "anands\n"
     ]
    }
   ],
   "source": [
    "s = \"ANANDS\"\n",
    "ss = s.casefold()\n",
    "print(ss)"
   ]
  },
  {
   "cell_type": "code",
   "execution_count": 7,
   "id": "feb385ba",
   "metadata": {},
   "outputs": [
    {
     "name": "stdout",
     "output_type": "stream",
     "text": [
      "Hello-Python-Welcome\n"
     ]
    }
   ],
   "source": [
    "s1 = \"Hello Python Welcome\"\n",
    "ss1 = '-'.join(s1.split(' '))\n",
    "print(ss1)"
   ]
  },
  {
   "cell_type": "code",
   "execution_count": 8,
   "id": "9a1648d1",
   "metadata": {},
   "outputs": [
    {
     "name": "stdout",
     "output_type": "stream",
     "text": [
      "PYTHON\n"
     ]
    }
   ],
   "source": [
    "s2 = \"python\"\n",
    "ss2 = s2.upper()\n",
    "print(ss2)"
   ]
  },
  {
   "cell_type": "code",
   "execution_count": 9,
   "id": "8757ef88",
   "metadata": {},
   "outputs": [
    {
     "name": "stdout",
     "output_type": "stream",
     "text": [
      "ANAND\n",
      "ISABEL\n",
      "UMA\n",
      "EMRAN\n"
     ]
    }
   ],
   "source": [
    "names = ['Anand', 'Dyal', 'Pradeep', \"Shraddha\",'Kapil','Vaishnav', \"isabel\",'uma','Emran']\n",
    "vowel = ['a','e','i','o','u','A','E','I','O','U']\n",
    "\n",
    "for N in names:\n",
    "    for V in vowel:\n",
    "        if N.startswith(V):\n",
    "            print(N.upper())"
   ]
  },
  {
   "cell_type": "code",
   "execution_count": 10,
   "id": "3aeb09ec",
   "metadata": {},
   "outputs": [
    {
     "name": "stdout",
     "output_type": "stream",
     "text": [
      "Enter a String:kdhteie\n",
      "K\n"
     ]
    }
   ],
   "source": [
    "s4 = input('Enter a String:')\n",
    "ss4 = ''\n",
    "\n",
    "for i in s4.split():\n",
    "    ss4 = ss4 + i[0].upper()\n",
    "    \n",
    "print(ss4)"
   ]
  },
  {
   "cell_type": "markdown",
   "id": "bdfe1f2d",
   "metadata": {},
   "source": [
    "### Append second string in the middle of first string"
   ]
  },
  {
   "cell_type": "code",
   "execution_count": 11,
   "id": "6c8aaf9e",
   "metadata": {},
   "outputs": [
    {
     "name": "stdout",
     "output_type": "stream",
     "text": [
      "Enter a string:fjeiow34jer\n",
      "Enter another string:jasdfh\n",
      "fjeiojasdfhw34jer\n"
     ]
    }
   ],
   "source": [
    "s5 = input('Enter a string:')\n",
    "s6 = input('Enter another string:')\n",
    "\n",
    "s56 = (s5[0:int(len(s5)/2)] + s6 + s5[int(len(s5)/2):])\n",
    "print(s56)"
   ]
  },
  {
   "cell_type": "markdown",
   "id": "5749c8cd",
   "metadata": {},
   "source": [
    "### Given string contains a combination of the lower and upper case letters. Write a program to arrange the characters of a string so that all lowercase letters should come first."
   ]
  },
  {
   "cell_type": "code",
   "execution_count": 12,
   "id": "eaa393d5",
   "metadata": {},
   "outputs": [
    {
     "name": "stdout",
     "output_type": "stream",
     "text": [
      "Enter a string in lower and upper case:kjfe43w4h\n",
      "kjfewh434\n"
     ]
    }
   ],
   "source": [
    "s7 = input('Enter a string in lower and upper case:')\n",
    "\n",
    "lower = ''\n",
    "upper = ''\n",
    " \n",
    "for i in s7:\n",
    "    if i.islower():\n",
    "        lower = lower + i\n",
    "    else:\n",
    "        upper = upper + i\n",
    "print(lower + upper)"
   ]
  },
  {
   "cell_type": "markdown",
   "id": "0e217fe5",
   "metadata": {},
   "source": [
    "### Take a alphanumeric string input and print the sum and average of the digits that appear in the string, ignoring all other characters."
   ]
  },
  {
   "cell_type": "code",
   "execution_count": 13,
   "id": "ee043399",
   "metadata": {},
   "outputs": [
    {
     "name": "stdout",
     "output_type": "stream",
     "text": [
      "Enter alphanumeric string:fjdkjfase3430\n",
      "10\n",
      "4\n",
      "2.5\n"
     ]
    }
   ],
   "source": [
    "s8 = input('Enter alphanumeric string:')\n",
    "sum = 0\n",
    "count = 0\n",
    "\n",
    "for i in s8:\n",
    "    if i.isdigit():\n",
    "        sum = sum + int(i)\n",
    "        count = count + 1\n",
    "        \n",
    "print(sum)\n",
    "print(count)\n",
    "avg = sum/count\n",
    "print(avg)\n"
   ]
  },
  {
   "cell_type": "markdown",
   "id": "71f68c31",
   "metadata": {},
   "source": [
    "###  Removal of all characters from a string except integers"
   ]
  },
  {
   "cell_type": "code",
   "execution_count": 14,
   "id": "5529a856",
   "metadata": {},
   "outputs": [
    {
     "name": "stdout",
     "output_type": "stream",
     "text": [
      "Enter a number mixed string:fdkjw4e9043\n",
      "49043\n"
     ]
    }
   ],
   "source": [
    "s9 = input('Enter a number mixed string:')\n",
    "\n",
    "result = \"\"\n",
    "\n",
    "for i in s9:\n",
    "    if i.isdigit():\n",
    "        result = result + i\n",
    "        \n",
    "print(result)"
   ]
  },
  {
   "cell_type": "markdown",
   "id": "6b591e01",
   "metadata": {},
   "source": [
    "### Check whether the string is Symmetrical."
   ]
  },
  {
   "cell_type": "code",
   "execution_count": 15,
   "id": "e4d80ed7",
   "metadata": {},
   "outputs": [
    {
     "name": "stdout",
     "output_type": "stream",
     "text": [
      "Enter a string:fsjafew\n",
      "Entered string is not Symmetrical\n"
     ]
    }
   ],
   "source": [
    "s10 = input('Enter a string:')\n",
    "\n",
    "if len(s10)%2 == 0:\n",
    "    s101 = s10[0:len(s10)//2]\n",
    "    s102 = s10[len(s10)//2:]\n",
    "    \n",
    "else:\n",
    "    s101 = s10[0:len(s10)//2]\n",
    "    s102 = s10[len(s10)//2 + 1:]\n",
    "    \n",
    "if s101 == s102:\n",
    "    print('Entered string is Symmetrical')\n",
    "else:\n",
    "    print('Entered string is not Symmetrical')"
   ]
  },
  {
   "cell_type": "markdown",
   "id": "7e1e6faf",
   "metadata": {},
   "source": [
    "### Reverse words in a given String"
   ]
  },
  {
   "cell_type": "code",
   "execution_count": 23,
   "id": "7c27b1b1",
   "metadata": {},
   "outputs": [
    {
     "name": "stdout",
     "output_type": "stream",
     "text": [
      "Enter a string:i am a good boy\n",
      "i\n",
      "ma\n",
      "a\n",
      "doog\n",
      "yob\n"
     ]
    }
   ],
   "source": [
    "s11 = input('Enter a string:')\n",
    "ss11 = s11.split()\n",
    "#print(ss11)\n",
    "for i in ss11:\n",
    "    i = i[::-1]\n",
    "    print(i)\n",
    "    "
   ]
  },
  {
   "cell_type": "code",
   "execution_count": 26,
   "id": "38686a4f",
   "metadata": {},
   "outputs": [
    {
     "name": "stdout",
     "output_type": "stream",
     "text": [
      "Enter a string to reverse:Hey are you doing well\n",
      "['well', 'doing', 'you', 'are', 'Hey']\n",
      "well doing you are Hey\n"
     ]
    }
   ],
   "source": [
    "s12 = input('Enter a string to reverse:')\n",
    "\n",
    "L = []\n",
    "for index in s12.split():\n",
    "    L.append(index)\n",
    "    \n",
    "L = L[::-1]\n",
    "print(L)\n",
    "print(\" \".join(L))"
   ]
  },
  {
   "cell_type": "markdown",
   "id": "8ace3d6b",
   "metadata": {},
   "source": [
    "### Find uncommon words from two Strings."
   ]
  },
  {
   "cell_type": "code",
   "execution_count": 33,
   "id": "e949dfa1",
   "metadata": {},
   "outputs": [
    {
     "name": "stdout",
     "output_type": "stream",
     "text": [
      "['apple']\n"
     ]
    }
   ],
   "source": [
    "A = \"apple banana mango\" \n",
    "B = \"banana fruits mango\"\n",
    "\n",
    "L = []\n",
    "\n",
    "for i in A.split():\n",
    "    if i not in B and i not in L:\n",
    "        L.append(i)\n",
    "    \n",
    "for j in B.split():\n",
    "    if j not in B and j not in L:\n",
    "        L.append(j)\n",
    "    \n",
    "print(L)"
   ]
  },
  {
   "cell_type": "markdown",
   "id": "45fd4ac3",
   "metadata": {},
   "source": [
    "### Write a python program to convert a string to title case without using the title()"
   ]
  },
  {
   "cell_type": "code",
   "execution_count": 3,
   "id": "f3b5baa1",
   "metadata": {},
   "outputs": [
    {
     "name": "stdout",
     "output_type": "stream",
     "text": [
      "Enter a string:dyal is a gooc boy\n",
      "Dyal Is A Gooc Boy\n"
     ]
    }
   ],
   "source": [
    "inpstr = input('Enter a string:')\n",
    "\n",
    "L = []\n",
    "\n",
    "for i in inpstr.split():\n",
    "    L.append(i[0].upper() + i[1:].lower())\n",
    "    \n",
    "print(\" \".join(L))"
   ]
  },
  {
   "cell_type": "markdown",
   "id": "aea3ddb5",
   "metadata": {},
   "source": [
    "### Write a program to count the number of words in a string without split()"
   ]
  },
  {
   "cell_type": "code",
   "execution_count": 7,
   "id": "4e08fd5e",
   "metadata": {},
   "outputs": [
    {
     "name": "stdout",
     "output_type": "stream",
     "text": [
      "Enter a string:hi how are you\n",
      "['hi', ' how', ' are', ' you']\n"
     ]
    }
   ],
   "source": [
    "s = input('Enter a string:')\n",
    "\n",
    "L = []\n",
    "temp = ''\n",
    "\n",
    "for i in s:\n",
    "    if i != ' ':\n",
    "        temp = temp + i\n",
    "    else:\n",
    "        L.append(temp)\n",
    "        temp = ' '\n",
    "        \n",
    "L.append(temp)\n",
    "print(L)"
   ]
  },
  {
   "cell_type": "markdown",
   "id": "fa648400",
   "metadata": {},
   "source": [
    "### Write a program that can check whether a given string is palindrome or not."
   ]
  },
  {
   "cell_type": "code",
   "execution_count": 10,
   "id": "2a1cabf5",
   "metadata": {},
   "outputs": [
    {
     "name": "stdout",
     "output_type": "stream",
     "text": [
      "Enter a string:popo\n",
      "not palindrome\n"
     ]
    }
   ],
   "source": [
    "s = input('Enter a string:')\n",
    "\n",
    "if s == s[::-1]:\n",
    "    print('Palindrome')\n",
    "else:\n",
    "    print('not palindrome')"
   ]
  },
  {
   "cell_type": "code",
   "execution_count": 11,
   "id": "a2a09c28",
   "metadata": {},
   "outputs": [],
   "source": [
    "### Write a program which can remove a particular character from a string."
   ]
  },
  {
   "cell_type": "code",
   "execution_count": 12,
   "id": "f45f0d8a",
   "metadata": {},
   "outputs": [
    {
     "name": "stdout",
     "output_type": "stream",
     "text": [
      "Enter a number:anand swaropp\n",
      "Enter term to be deleted in the string:a\n",
      "nnd swropp\n"
     ]
    }
   ],
   "source": [
    "s = input('Enter a number:')\n",
    "term = input('Enter term to be deleted in the string:')\n",
    "\n",
    "result = ''\n",
    "\n",
    "for i in s:\n",
    "    if i != term:\n",
    "        result = result + i\n",
    "print(result)"
   ]
  }
 ],
 "metadata": {
  "kernelspec": {
   "display_name": "Python 3 (ipykernel)",
   "language": "python",
   "name": "python3"
  },
  "language_info": {
   "codemirror_mode": {
    "name": "ipython",
    "version": 3
   },
   "file_extension": ".py",
   "mimetype": "text/x-python",
   "name": "python",
   "nbconvert_exporter": "python",
   "pygments_lexer": "ipython3",
   "version": "3.11.5"
  }
 },
 "nbformat": 4,
 "nbformat_minor": 5
}
