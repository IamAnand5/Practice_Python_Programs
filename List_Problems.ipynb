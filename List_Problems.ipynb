{
 "cells": [
  {
   "cell_type": "markdown",
   "id": "fa11b41c",
   "metadata": {},
   "source": [
    "### Adding elements to the list"
   ]
  },
  {
   "cell_type": "code",
   "execution_count": 8,
   "id": "5013187d",
   "metadata": {},
   "outputs": [
    {
     "name": "stdout",
     "output_type": "stream",
     "text": [
      "Enter the no. of list items to be added:5\n",
      "Enter the items:45\n",
      "Enter the items:78\n",
      "Enter the items:25\n",
      "Enter the items:24\n",
      "Enter the items:85\n",
      "['45', '78', '25', '24', '85']\n"
     ]
    }
   ],
   "source": [
    "l = []\n",
    "n = int(input('Enter the no. of list items to be added:'))\n",
    "\n",
    "for i in range(0,n):\n",
    "    l.append(input('Enter the items:'))\n",
    "print(l)\n",
    "# print('Entered list elements are:')\n",
    "# for i in l:\n",
    "#     print(i, end=\" \")"
   ]
  },
  {
   "cell_type": "markdown",
   "id": "1e9d086e",
   "metadata": {},
   "source": [
    "### Removing the elements from a list"
   ]
  },
  {
   "cell_type": "code",
   "execution_count": 15,
   "id": "edded29c",
   "metadata": {},
   "outputs": [
    {
     "name": "stdout",
     "output_type": "stream",
     "text": [
      "The list elements are:\n",
      "23 4 52 67 96 12 78 \n",
      "The list after the removal of item is:\n",
      "23 52 67 96 12 78 "
     ]
    }
   ],
   "source": [
    "l = [23,4,52,67,96,12,78]\n",
    "\n",
    "print(\"The list elements are:\")\n",
    "\n",
    "for i in l:\n",
    "    print(i, end = ' ')\n",
    "    \n",
    "l.remove(4)    #remove() will remove the element specified in the remove() not on the basis of index position\n",
    "\n",
    "print('\\nThe list after the removal of item is:')\n",
    "for i in l:\n",
    "    print(i,end = ' ')"
   ]
  },
  {
   "cell_type": "markdown",
   "id": "843d00bd",
   "metadata": {},
   "source": [
    "### Logical code"
   ]
  },
  {
   "cell_type": "code",
   "execution_count": 41,
   "id": "77501f46",
   "metadata": {},
   "outputs": [
    {
     "name": "stdout",
     "output_type": "stream",
     "text": [
      "[1, 2, 3, 4, 5, 6]\n",
      "[1, 2, 3, 4, 5, 6]\n",
      "[1, 2, 3, 4, 5, 6]\n",
      "[1, 2, 3, 4, 5, 6]\n",
      "[1, 2, 3, 4, 5, 6]\n",
      "[1, 2, 3, 4, 5, 6]\n"
     ]
    }
   ],
   "source": [
    "l=[1,2,3,4,5,6]\n",
    "\n",
    "#for i in list(range(0,len(l))):    \n",
    "#for i in l:\n",
    "for i in list(range(len(l))):\n",
    "    \n",
    "    print(l)\n",
    "    #print(i)"
   ]
  },
  {
   "cell_type": "code",
   "execution_count": 37,
   "id": "9b1b2857",
   "metadata": {},
   "outputs": [
    {
     "name": "stdout",
     "output_type": "stream",
     "text": [
      "[2, 4, 6]\n"
     ]
    }
   ],
   "source": [
    "l=[1,2,3,4,5,6]\n",
    "for i in l:\n",
    "    l.remove(i)\n",
    "print(l)"
   ]
  },
  {
   "cell_type": "markdown",
   "id": "ac05be7b",
   "metadata": {},
   "source": [
    "### Write a program to add two lists index-wise. Create a new list that contains the 0th index item from both the list, then the 1st index item, and so on till the last element. any leftover items will get added at the end of the new list."
   ]
  },
  {
   "cell_type": "code",
   "execution_count": 42,
   "id": "71e06b98",
   "metadata": {},
   "outputs": [
    {
     "data": {
      "text/plain": [
       "[['M', 'y'], ['na', 'me'], ['i', 's'], ['Kh', 'an']]"
      ]
     },
     "execution_count": 42,
     "metadata": {},
     "output_type": "execute_result"
    }
   ],
   "source": [
    "# Write code here\n",
    "list1 = [\"M\", \"na\", \"i\", \"Kh\"]\n",
    "list2 = [\"y\", \"me\", \"s\", \"an\"]\n",
    "\n",
    "[[i,j] for (i,j) in zip(list1,list2)]"
   ]
  },
  {
   "cell_type": "markdown",
   "id": "431e4845",
   "metadata": {},
   "source": [
    "### Write a program to add item 7000 after 6000 in the following Python List\n",
    "#### list1 = [10, 20, [300, 400, [5000, 6000], 500], 30, 40]"
   ]
  },
  {
   "cell_type": "code",
   "execution_count": 55,
   "id": "c9e3752d",
   "metadata": {},
   "outputs": [
    {
     "name": "stdout",
     "output_type": "stream",
     "text": [
      "[10, 20, [300, 400, [5000, 6000, 7000], 500], 30, 40]\n"
     ]
    }
   ],
   "source": [
    "list1 = [10, 20, [300, 400, [5000, 6000], 500], 30, 40]\n",
    "list1[2][2].append(7000)\n",
    "print(list1)"
   ]
  },
  {
   "cell_type": "markdown",
   "id": "35ea6ca5",
   "metadata": {},
   "source": [
    "#### Suppose you are given a list of candy and another list of same size representing no of items of respective candy. \n",
    "\n",
    "i.e -  \n",
    "```\n",
    "candy_list = ['Jelly Belly','Kit Kat','Double Bubble','Milky Way','Three Musketeers']\n",
    "no_of_items = [10,20,34,74,32]\n",
    "```\n",
    "\n",
    "Write a program to show no. of items of each candy type.\n",
    "\n",
    "`Output:`\n",
    "\n",
    "```\n",
    "Jelly Belly-10\n",
    "Kit Kat-20\n",
    "Double Bubble-34\n",
    "Milky Way-74\n",
    "Three Musketeers-32"
   ]
  },
  {
   "cell_type": "code",
   "execution_count": 62,
   "id": "c33cf479",
   "metadata": {},
   "outputs": [
    {
     "name": "stdout",
     "output_type": "stream",
     "text": [
      "Jelly Belly - 10\n",
      "Kit Kat - 20\n",
      "Double Bubble - 34\n",
      "Milky Way - 74\n",
      "Three Musketeers - 32\n"
     ]
    }
   ],
   "source": [
    "candy_list = ['Jelly Belly','Kit Kat','Double Bubble','Milky Way','Three Musketeers']\n",
    "no_of_items = [10,20,34,74,32]\n",
    "\n",
    "for (i,j) in zip(candy_list,no_of_items):\n",
    "    print(i,'-',j)"
   ]
  },
  {
   "cell_type": "markdown",
   "id": "547d10b1",
   "metadata": {},
   "source": [
    "### Write a program to print a list after performing running sum on it."
   ]
  },
  {
   "cell_type": "code",
   "execution_count": 66,
   "id": "9e59a56d",
   "metadata": {},
   "outputs": [
    {
     "name": "stdout",
     "output_type": "stream",
     "text": [
      "[1, 3, 37, 42, 98]\n"
     ]
    }
   ],
   "source": [
    "list1 = [1,2,34,5,56]\n",
    "\n",
    "sum = 0\n",
    "result = []\n",
    "\n",
    "for i in list1:\n",
    "    sum = sum + i\n",
    "    result.append(sum)\n",
    "print(result)"
   ]
  }
 ],
 "metadata": {
  "kernelspec": {
   "display_name": "Python 3 (ipykernel)",
   "language": "python",
   "name": "python3"
  },
  "language_info": {
   "codemirror_mode": {
    "name": "ipython",
    "version": 3
   },
   "file_extension": ".py",
   "mimetype": "text/x-python",
   "name": "python",
   "nbconvert_exporter": "python",
   "pygments_lexer": "ipython3",
   "version": "3.11.5"
  }
 },
 "nbformat": 4,
 "nbformat_minor": 5
}
