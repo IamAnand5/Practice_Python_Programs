{
 "cells": [
  {
   "cell_type": "code",
   "execution_count": 33,
   "id": "048395cc",
   "metadata": {},
   "outputs": [
    {
     "name": "stdout",
     "output_type": "stream",
     "text": [
      "25\n"
     ]
    }
   ],
   "source": [
    "def square(num):\n",
    "    return num**2\n",
    "print(square(5))\n",
    "#print(type(a))"
   ]
  },
  {
   "cell_type": "code",
   "execution_count": 7,
   "id": "69f7c310",
   "metadata": {},
   "outputs": [
    {
     "name": "stdout",
     "output_type": "stream",
     "text": [
      "length of string is 4\n"
     ]
    }
   ],
   "source": [
    "def a_display(string):\n",
    "    return len(string)\n",
    "\n",
    "print(\"length of string is\",a_display(\"dyal\"))"
   ]
  },
  {
   "cell_type": "code",
   "execution_count": 11,
   "id": "92617639",
   "metadata": {},
   "outputs": [
    {
     "name": "stdout",
     "output_type": "stream",
     "text": [
      "Squares of the numbers in the list are: [3, 4, 5, 6]\n"
     ]
    }
   ],
   "source": [
    "# pass by reference example\n",
    "\n",
    "def square(item_list):\n",
    "    \n",
    "    squares = []\n",
    "    \n",
    "    for i in item_list:\n",
    "        squares.append(i**2)\n",
    "        \n",
    "    return squares\n",
    "\n",
    "passing_list = [3,4,5,6]\n",
    "display_result = square(passing_list)\n",
    "print('Squares of the numbers in the list are:',passing_list)"
   ]
  },
  {
   "cell_type": "markdown",
   "id": "149359c1",
   "metadata": {},
   "source": [
    "### Function arguments\n",
    "    Default arguments\n",
    "    keyword arguments\n",
    "    required arguments\n",
    "    variable-length arguments"
   ]
  },
  {
   "cell_type": "code",
   "execution_count": 19,
   "id": "834909c8",
   "metadata": {},
   "outputs": [
    {
     "name": "stdout",
     "output_type": "stream",
     "text": [
      "function with one parameter: (50, 80)\n",
      "function with two parameter: (40, 60)\n"
     ]
    }
   ],
   "source": [
    "# Default arguments\n",
    "\n",
    "def d_function(num1,num2=80):\n",
    "    \n",
    "#     print(num1)\n",
    "#     print(num2)\n",
    "    return num1,num2\n",
    "    \n",
    "print(\"function with one parameter:\",d_function(50))\n",
    "print(\"function with two parameter:\",d_function(40,60))"
   ]
  },
  {
   "cell_type": "code",
   "execution_count": 22,
   "id": "e21cda97",
   "metadata": {},
   "outputs": [
    {
     "name": "stdout",
     "output_type": "stream",
     "text": [
      "40 60\n",
      "60 40\n"
     ]
    }
   ],
   "source": [
    "# keyword arguments\n",
    "\n",
    "def k_func(num1,num2):\n",
    "    print(num1,num2)\n",
    "    \n",
    "# when no keyword arg passed\n",
    "k_func(40,60)    #here by default num1=40 and num2=60\n",
    "\n",
    "# when keyword arg passed\n",
    "k_func(num2=40,num1=60)    #but with keyword num1=60 and num2=40 as defined"
   ]
  },
  {
   "cell_type": "code",
   "execution_count": 27,
   "id": "3299d8c7",
   "metadata": {},
   "outputs": [
    {
     "name": "stdout",
     "output_type": "stream",
     "text": [
      "out of order arguments\n",
      "70 80\n",
      "when passing only one argument\n",
      "require 2 positional args whereas 1 is given\n"
     ]
    }
   ],
   "source": [
    "# Required arguments\n",
    "\n",
    "def r_func(num1,num2):\n",
    "    \n",
    "    print(\"out of order arguments\")\n",
    "    print(num1,num2)\n",
    "    \n",
    "r_func(70,80)\n",
    "\n",
    "print(\"when passing only one argument\")\n",
    "try:\n",
    "    r_func(40)   #if two args were given it will print passed vaules otherwise print below except statement\n",
    "except:\n",
    "    print(\"require 2 positional args whereas 1 is given\")"
   ]
  },
  {
   "cell_type": "code",
   "execution_count": 23,
   "id": "f7e7620f",
   "metadata": {},
   "outputs": [
    {
     "name": "stdout",
     "output_type": "stream",
     "text": [
      "['PTHON', 'CITU', 'ANDY', 'TPLU', 'TUTU']\n"
     ]
    }
   ],
   "source": [
    "# Variable length arguments (\"args\" and \"kwargs\" refer to arguments not based on keywords.)\n",
    "\n",
    "# definging a function to make list items in upper case\n",
    "\n",
    "def case_upper(*list_args):\n",
    "    \n",
    "    empty_list = []\n",
    "    \n",
    "    for i in list_args:\n",
    "        empty_list.append(i.upper())\n",
    "        \n",
    "    return empty_list \n",
    "\n",
    "obj = case_upper('pthon','citu','andy','tplu','tutu')\n",
    "\n",
    "print(obj)"
   ]
  },
  {
   "cell_type": "code",
   "execution_count": 54,
   "id": "cd75a333",
   "metadata": {},
   "outputs": [
    {
     "data": {
      "text/plain": [
       "263"
      ]
     },
     "execution_count": 54,
     "metadata": {},
     "output_type": "execute_result"
    }
   ],
   "source": [
    "# Example *args\n",
    "\n",
    "def add_nums(*args):\n",
    "    add = 0\n",
    "    for i in args:\n",
    "        add = add + i\n",
    "    return add\n",
    "\n",
    "add_nums(89,4,76,3,2,89)  "
   ]
  },
  {
   "cell_type": "code",
   "execution_count": 46,
   "id": "9b3f28fc",
   "metadata": {},
   "outputs": [
    {
     "data": {
      "text/plain": [
       "[4, 9, 169, 16]"
      ]
     },
     "execution_count": 46,
     "metadata": {},
     "output_type": "execute_result"
    }
   ],
   "source": [
    "# Example *args\n",
    "\n",
    "def squares(*num):\n",
    "    l = []\n",
    "    for i in num:\n",
    "        l.append(i**2)\n",
    "    return l\n",
    "\n",
    "squares(2,3,13,4)\n"
   ]
  },
  {
   "cell_type": "code",
   "execution_count": 52,
   "id": "e3e6dda3",
   "metadata": {},
   "outputs": [
    {
     "data": {
      "text/plain": [
       "3024"
      ]
     },
     "execution_count": 52,
     "metadata": {},
     "output_type": "execute_result"
    }
   ],
   "source": [
    "# Example *args\n",
    "\n",
    "def product(*args):\n",
    "    p = 1\n",
    "    \n",
    "    for i in args:\n",
    "        p = p*i\n",
    "    return p\n",
    "    \n",
    "product(8,9,7,6)"
   ]
  },
  {
   "cell_type": "code",
   "execution_count": 2,
   "id": "8c09a96b",
   "metadata": {},
   "outputs": [
    {
     "name": "stdout",
     "output_type": "stream",
     "text": [
      "[['First', 'Python'], ['Second', 'Functions'], ['Third', 'Tutorials']]\n"
     ]
    }
   ],
   "source": [
    "# # Example **kwargs\n",
    "\n",
    "def input_values(**kwargs):\n",
    "    \n",
    "    ans = []\n",
    "    \n",
    "    for key,value in kwargs.items():\n",
    "        \n",
    "        ans.append([key, value])\n",
    "        \n",
    "    return ans\n",
    "\n",
    "# passing kwargs arguments\n",
    "\n",
    "object = input_values(First = 'Python', Second = 'Functions', Third = 'Tutorials')\n",
    "\n",
    "print(object)"
   ]
  },
  {
   "cell_type": "markdown",
   "id": "85a7874b",
   "metadata": {},
   "source": [
    "### return statement: When a defined function is called, a return statement is written to exit the function and return the calculated value."
   ]
  },
  {
   "cell_type": "code",
   "execution_count": 3,
   "id": "fe11ff09",
   "metadata": {},
   "outputs": [
    {
     "name": "stdout",
     "output_type": "stream",
     "text": [
      "With return statement\n",
      "2704\n",
      "Without return statement\n",
      "None\n"
     ]
    }
   ],
   "source": [
    "# Defining a function with return statement\n",
    "\n",
    "def square(num):\n",
    "    return num**2\n",
    "\n",
    "# Calling function and passing arguments\n",
    "print(\"With return statement\")\n",
    "print(square(52))\n",
    "\n",
    "# Defining a function without return statement\n",
    "\n",
    "def square(num):\n",
    "    num**2\n",
    "    \n",
    "# Calling function and passing arguments\n",
    "\n",
    "print(\"Without return statement\")\n",
    "print(square(52))"
   ]
  },
  {
   "cell_type": "code",
   "execution_count": null,
   "id": "cf890c9e",
   "metadata": {},
   "outputs": [],
   "source": []
  },
  {
   "cell_type": "code",
   "execution_count": null,
   "id": "ae46d948",
   "metadata": {},
   "outputs": [],
   "source": []
  },
  {
   "cell_type": "code",
   "execution_count": 10,
   "id": "0f295957",
   "metadata": {},
   "outputs": [
    {
     "name": "stdout",
     "output_type": "stream",
     "text": [
      "subtraction: 5\n",
      "multiplication 8\n"
     ]
    }
   ],
   "source": [
    "def sub():\n",
    "    x=10\n",
    "    y=5\n",
    "    c = x-y\n",
    "    return c\n",
    "def mul():\n",
    "    x=2\n",
    "    y=4\n",
    "    c=x*y\n",
    "    return c\n",
    "def main():\n",
    "    print(\"subtraction:\",sub())\n",
    "    print(\"multiplication\",mul())\n",
    "    \n",
    "if __name__ == '__main__':\n",
    "    main()"
   ]
  },
  {
   "cell_type": "code",
   "execution_count": 5,
   "id": "446d828e",
   "metadata": {},
   "outputs": [],
   "source": [
    "import sys\n",
    "\n",
    "class credentials:\n",
    "    def __init__(self, name, age, salary, eid, qualification, address):\n",
    "        self.name = name\n",
    "        self.age = age\n",
    "        self.salary = salary\n",
    "        self.eid = eid\n",
    "        self.qualification = qualification\n",
    "        self.address = address\n",
    "\n",
    "    def show_details(self):\n",
    "\n",
    "        print(\"employee's name is:\", self.name)\n",
    "        print(\"employee's age is:\", self.age)\n",
    "        print(\"employee's salary:\", self.salary)\n",
    "        print(\"employee's id: \", self.eid)\n",
    "        print(\"employee's qualification:\", self.qualification)\n",
    "        print(\"employee's addresss:\", self.address)\n",
    "\n",
    "    def remove(self):\n",
    "\n",
    "        del self.name\n",
    "\n",
    "        del self.age\n",
    "\n",
    "        del self.salary\n",
    "\n",
    "        del self.id\n",
    "\n",
    "        del self.qualification\n",
    "\n",
    "        del self.address\n"
   ]
  },
  {
   "cell_type": "code",
   "execution_count": 3,
   "id": "4b287c10",
   "metadata": {},
   "outputs": [
    {
     "name": "stdout",
     "output_type": "stream",
     "text": [
      "enter the name:d\n",
      "enter the age: 3\n",
      "enter the salary 4\n",
      "enter the id: 5\n",
      "enter your qualification: fd\n",
      "enter the address: d\n",
      "for remove the data dor -D\n",
      " for exit the data press Eor en for adding the data a or A\n",
      "enter the option:e\n",
      "Thanks for entering the data :\n"
     ]
    },
    {
     "ename": "NameError",
     "evalue": "name 'sys' is not defined",
     "output_type": "error",
     "traceback": [
      "\u001b[1;31m---------------------------------------------------------------------------\u001b[0m",
      "\u001b[1;31mNameError\u001b[0m                                 Traceback (most recent call last)",
      "Cell \u001b[1;32mIn[3], line 24\u001b[0m\n\u001b[0;32m     21\u001b[0m \u001b[38;5;28;01melif\u001b[39;00m option\u001b[38;5;241m.\u001b[39mlower() \u001b[38;5;241m==\u001b[39m \u001b[38;5;124m'\u001b[39m\u001b[38;5;124me\u001b[39m\u001b[38;5;124m'\u001b[39m:\n\u001b[0;32m     23\u001b[0m     \u001b[38;5;28mprint\u001b[39m(\u001b[38;5;124m\"\u001b[39m\u001b[38;5;124mThanks for entering the data :\u001b[39m\u001b[38;5;124m\"\u001b[39m)\n\u001b[1;32m---> 24\u001b[0m     sys\u001b[38;5;241m.\u001b[39mexit()\n\u001b[0;32m     26\u001b[0m \u001b[38;5;28;01melif\u001b[39;00m option\u001b[38;5;241m.\u001b[39mlower() \u001b[38;5;241m==\u001b[39m \u001b[38;5;124m'\u001b[39m\u001b[38;5;124ma\u001b[39m\u001b[38;5;124m'\u001b[39m:\n\u001b[0;32m     27\u001b[0m     emp1\u001b[38;5;241m.\u001b[39mget_data()\n",
      "\u001b[1;31mNameError\u001b[0m: name 'sys' is not defined"
     ]
    }
   ],
   "source": [
    "def get_data():\n",
    "    name = input(\"enter the name:\")\n",
    "    age = input(\"enter the age: \")\n",
    "    salary = float(input(\"enter the salary \"))\n",
    "    id= input(\"enter the id: \")\n",
    "    qualification = input(\"enter your qualification: \")\n",
    "    address = input(\"enter the address: \")\n",
    "\n",
    "emp1 = get_data()\n",
    "\n",
    "\n",
    "\n",
    "while(True):\n",
    "    print(\"for remove the data dor -D\\n for exit the data press Eor en for adding the data a or A\")\n",
    "    option = input('enter the option:')\n",
    "\n",
    "    if option.lower() == 'd':\n",
    "        emp1.remove()\n",
    "        print(\"your data is deleted successfully\")\n",
    "\n",
    "    elif option.lower() == 'e':\n",
    "\n",
    "        print(\"Thanks for entering the data :\")\n",
    "        sys.exit()\n",
    "\n",
    "    elif option.lower() == 'a':\n",
    "        emp1.get_data()\n",
    "\n",
    "    else:\n",
    "        emp1.details()"
   ]
  },
  {
   "cell_type": "code",
   "execution_count": null,
   "id": "705bc495",
   "metadata": {},
   "outputs": [],
   "source": []
  }
 ],
 "metadata": {
  "kernelspec": {
   "display_name": "Python 3 (ipykernel)",
   "language": "python",
   "name": "python3"
  },
  "language_info": {
   "codemirror_mode": {
    "name": "ipython",
    "version": 3
   },
   "file_extension": ".py",
   "mimetype": "text/x-python",
   "name": "python",
   "nbconvert_exporter": "python",
   "pygments_lexer": "ipython3",
   "version": "3.11.5"
  }
 },
 "nbformat": 4,
 "nbformat_minor": 5
}
